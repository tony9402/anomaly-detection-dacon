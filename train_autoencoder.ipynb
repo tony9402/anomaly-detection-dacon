{
 "cells": [
  {
   "cell_type": "code",
   "execution_count": 1,
   "id": "033275a0",
   "metadata": {},
   "outputs": [],
   "source": [
    "import warnings\n",
    "warnings.filterwarnings('ignore')\n",
    "\n",
    "from glob import glob\n",
    "import pandas as pd\n",
    "import numpy as np \n",
    "from tqdm import tqdm\n",
    "import cv2\n",
    "\n",
    "import os\n",
    "import timm\n",
    "import random\n",
    "\n",
    "import albumentations as A\n",
    "from albumentations.pytorch import transforms, ToTensorV2\n",
    "\n",
    "import torch\n",
    "from torch.utils.data import Dataset, DataLoader\n",
    "import torch.nn as nn\n",
    "import torchvision.transforms as transforms\n",
    "\n",
    "from sklearn.metrics import f1_score, accuracy_score"
   ]
  },
  {
   "cell_type": "code",
   "execution_count": 2,
   "id": "398958d5",
   "metadata": {},
   "outputs": [],
   "source": [
    "# !pip3 install timm albumentations"
   ]
  },
  {
   "cell_type": "code",
   "execution_count": 3,
   "id": "817a16ab",
   "metadata": {},
   "outputs": [],
   "source": [
    "# Configs\n",
    "config = {\n",
    "    \"SEED\": 777,\n",
    "    \"SIZE\": 384,\n",
    "    \"CSV\": \"./train_for_autoencoder.csv\",\n",
    "    \n",
    "    \"FOLD\": -1,\n",
    "    \"BATCH_SIZE\": 16,\n",
    "    \"LEARNING_RATE\": 0.001,\n",
    "    \"EPOCHS\": 100,\n",
    "    \"N_WORKERS\": 4,\n",
    "    \n",
    "    \"MODEL\": \"tf_efficientnet_b7\",\n",
    "    \"MODEL_SAVE\": \"./UNet\",\n",
    "    \"MODEL_SAVE_PREFIX\": \"UNet_\",\n",
    "    \n",
    "    \"DEVICE\": torch.device(\"cuda\" if torch.cuda.is_available() else \"cpu\")\n",
    "}"
   ]
  },
  {
   "cell_type": "code",
   "execution_count": 4,
   "id": "11cc2349",
   "metadata": {},
   "outputs": [],
   "source": [
    "if not os.path.exists(config[\"MODEL_SAVE\"]):\n",
    "    os.makedirs(config[\"MODEL_SAVE\"], exist_ok=True)"
   ]
  },
  {
   "cell_type": "code",
   "execution_count": 5,
   "id": "20086c98",
   "metadata": {},
   "outputs": [],
   "source": [
    "random.seed(config[\"SEED\"])\n",
    "torch.cuda.manual_seed(config[\"SEED\"])\n",
    "torch.manual_seed(config[\"SEED\"])\n",
    "torch.cuda.empty_cache()"
   ]
  },
  {
   "cell_type": "code",
   "execution_count": 6,
   "id": "1e3d68c2",
   "metadata": {},
   "outputs": [],
   "source": [
    "class CustomDataset(Dataset):\n",
    "    def __init__(self,\n",
    "                 data_path,\n",
    "                 size,\n",
    "                 transform=None,\n",
    "                 fold=0,\n",
    "                 mode=\"train\"):\n",
    "        self.csv = pd.read_csv(data_path)\n",
    "        if 'kfold' in self.csv:\n",
    "            if mode == \"train\":\n",
    "                self.csv = self.csv[self.csv['kfold'] != fold]\n",
    "            elif mode == \"validation\":\n",
    "                self.csv = self.csv[self.csv['kfold'] == fold]\n",
    "        \n",
    "        self.path = self.csv['path'].to_list()\n",
    "        self.labels = self.csv['encoded_label'].to_list()\n",
    "        self.transform = transform\n",
    "        self.size = size\n",
    "        self.mode = mode\n",
    "    \n",
    "    def __len__(self):\n",
    "        return len(self.path)\n",
    "    \n",
    "    def __getitem__(self, idx):        \n",
    "        # Image\n",
    "        image = cv2.imread(self.path[idx])\n",
    "        image = cv2.cvtColor(image, cv2.COLOR_BGR2RGB)\n",
    "        #image = cv2.cvtColor(image, cv2.COLOR_BGR2GRAY)\n",
    "        \n",
    "        if self.transform:\n",
    "            image = self.transform(self.size)(image=image)['image']\n",
    "\n",
    "        # Only test mode\n",
    "        if self.mode == \"test\":\n",
    "            return {\n",
    "                'image': image\n",
    "            }\n",
    "        \n",
    "        # Label\n",
    "        label = self.labels[idx]\n",
    "        label = torch.tensor(label, dtype=torch.long)\n",
    "        \n",
    "        return {\n",
    "            'image': image,\n",
    "            'label': label\n",
    "        }"
   ]
  },
  {
   "cell_type": "code",
   "execution_count": 7,
   "id": "03dae591",
   "metadata": {},
   "outputs": [],
   "source": [
    "def create_train_transforms(size=512):\n",
    "    return A.Compose([\n",
    "        A.Resize(size, size),\n",
    "        ToTensorV2()\n",
    "    ])"
   ]
  },
  {
   "cell_type": "code",
   "execution_count": 8,
   "id": "a2c045c7",
   "metadata": {},
   "outputs": [],
   "source": [
    "def create_validation_transforms(size=128):\n",
    "    return A.Compose([\n",
    "        A.Resize(size, size),\n",
    "        ToTensorV2()\n",
    "    ])"
   ]
  },
  {
   "cell_type": "code",
   "execution_count": 9,
   "id": "aeb5997e",
   "metadata": {},
   "outputs": [],
   "source": [
    "train_dataset = CustomDataset(\n",
    "    data_path = config[\"CSV\"],\n",
    "    size = config[\"SIZE\"],\n",
    "    transform = create_train_transforms,\n",
    "    fold = config[\"FOLD\"],\n",
    "    mode = \"train\"\n",
    ")\n",
    "validation_dataset = CustomDataset(\n",
    "    data_path = config[\"CSV\"],\n",
    "    size = config[\"SIZE\"],\n",
    "    transform = create_validation_transforms,\n",
    "    fold = config[\"FOLD\"],\n",
    "    mode = \"validation\"\n",
    ")\n",
    "train_loader = DataLoader(\n",
    "    dataset = train_dataset,\n",
    "    shuffle = True,\n",
    "    batch_size = config[\"BATCH_SIZE\"],\n",
    "    num_workers = config[\"N_WORKERS\"]\n",
    ")\n",
    "validation_loader = DataLoader(\n",
    "    dataset = validation_dataset,\n",
    "    shuffle = False,\n",
    "    batch_size = config[\"BATCH_SIZE\"],\n",
    "    num_workers = config[\"N_WORKERS\"]\n",
    ")"
   ]
  },
  {
   "cell_type": "code",
   "execution_count": 10,
   "id": "bd1acf37",
   "metadata": {},
   "outputs": [],
   "source": [
    "from UNet import UNet\n",
    "model = UNet(3, 1).to(config[\"DEVICE\"])"
   ]
  },
  {
   "cell_type": "code",
   "execution_count": 11,
   "id": "eb420c34",
   "metadata": {},
   "outputs": [],
   "source": [
    "optimizer = torch.optim.Adam(model.parameters(), lr=config[\"LEARNING_RATE\"])\n",
    "criterion = nn.MSELoss()"
   ]
  },
  {
   "cell_type": "code",
   "execution_count": null,
   "id": "23c99c16",
   "metadata": {},
   "outputs": [
    {
     "name": "stderr",
     "output_type": "stream",
     "text": [
      "100%|██████████| 227/227 [01:37<00:00,  2.33it/s, epoch=0/100, train_loss=13418.45588, total_train_loss=13418.45588]\n",
      "  6%|▌         | 14/227 [00:06<01:30,  2.35it/s, epoch=1/100, train_loss=12011.38274, total_train_loss=740.79013]"
     ]
    }
   ],
   "source": [
    "best_loss, best_pred = float('inf'), 0\n",
    "for epoch in range(config[\"EPOCHS\"]):\n",
    "    model.train()\n",
    "    pbar = tqdm(train_loader, total=len(train_loader))\n",
    "    total_train_loss = 0\n",
    "    train_data_cnt = 0\n",
    "    train_loss = 0\n",
    "    for batch in pbar:\n",
    "        x = torch.tensor(batch['image'], dtype=torch.float32, device=config[\"DEVICE\"])\n",
    "        pred = model(x)\n",
    "\n",
    "        loss = criterion(pred, x)\n",
    "        loss.backward()\n",
    "        optimizer.step()\n",
    "        optimizer.zero_grad()\n",
    "        \n",
    "        total_train_loss += loss.item() / len(train_loader)\n",
    "        train_loss = train_loss * train_data_cnt + loss.item()\n",
    "        train_data_cnt += 1\n",
    "        train_loss /= train_data_cnt\n",
    "        pbar.set_postfix({\n",
    "            \"epoch\": f\"{epoch}/{config['EPOCHS']}\",\n",
    "            \"train_loss\" : f\"{train_loss:.5f}\",\n",
    "            \"total_train_loss\": f\"{total_train_loss:.5f}\"\n",
    "        })\n",
    "        \n",
    "    if best_loss > train_loss:\n",
    "        best_loss = train_loss\n",
    "        torch.save(model.state_dict(),\n",
    "                   f\"{config['MODEL_SAVE']}/{config['MODEL_SAVE_PREFIX']}_best.pth\")\n",
    "    \n",
    "    torch.save(model.state_dict(),\n",
    "               f\"{config['MODEL_SAVE']}/{config['MODEL_SAVE_PREFIX']}_{epoch}.pth\")\n",
    "    pbar.close()"
   ]
  },
  {
   "cell_type": "code",
   "execution_count": null,
   "id": "18e69941",
   "metadata": {},
   "outputs": [],
   "source": []
  }
 ],
 "metadata": {
  "kernelspec": {
   "display_name": "Python 3 (ipykernel)",
   "language": "python",
   "name": "python3"
  },
  "language_info": {
   "codemirror_mode": {
    "name": "ipython",
    "version": 3
   },
   "file_extension": ".py",
   "mimetype": "text/x-python",
   "name": "python",
   "nbconvert_exporter": "python",
   "pygments_lexer": "ipython3",
   "version": "3.8.12"
  }
 },
 "nbformat": 4,
 "nbformat_minor": 5
}
