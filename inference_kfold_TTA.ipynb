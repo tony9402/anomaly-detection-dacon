{
 "cells": [
  {
   "cell_type": "code",
   "execution_count": null,
   "id": "9a283d6b",
   "metadata": {},
   "outputs": [],
   "source": [
    "import os\n",
    "os.environ[\"CUDA_DEVICE_ORDER\"]=\"PCI_BUS_ID\"   \n",
    "os.environ[\"CUDA_VISIBLE_DEVICES\"]=\"0\"\n",
    "\n",
    "import warnings\n",
    "warnings.filterwarnings('ignore')\n",
    "\n",
    "from glob import glob\n",
    "import pandas as pd\n",
    "import numpy as np \n",
    "from tqdm import tqdm\n",
    "import cv2\n",
    "\n",
    "import os\n",
    "import timm\n",
    "import random\n",
    "\n",
    "import albumentations as A\n",
    "from albumentations.pytorch import transforms, ToTensorV2\n",
    "\n",
    "import torch\n",
    "from torch.utils.data import Dataset, DataLoader\n",
    "import torch.nn as nn\n",
    "import torch.nn.functional as F\n",
    "import torchvision.transforms as transforms\n",
    "\n",
    "import json\n",
    "import joblib\n",
    "\n",
    "from sklearn.metrics import f1_score, accuracy_score"
   ]
  },
  {
   "cell_type": "code",
   "execution_count": null,
   "id": "44b845fa",
   "metadata": {},
   "outputs": [],
   "source": [
    "# Configs\n",
    "config = {}\n",
    "config_path = \"./config/swin_all.json\"\n",
    "with open(config_path, 'r') as f:\n",
    "    config = json.load(f)\n",
    "    f.close()"
   ]
  },
  {
   "cell_type": "code",
   "execution_count": null,
   "id": "f9caf72a",
   "metadata": {},
   "outputs": [],
   "source": [
    "config['DEVICE'] = torch.device(\"cuda\" if torch.cuda.is_available() else \"cpu\")"
   ]
  },
  {
   "cell_type": "code",
   "execution_count": null,
   "id": "133bf061",
   "metadata": {},
   "outputs": [],
   "source": [
    "class CustomDataset(Dataset):\n",
    "    def __init__(self,\n",
    "                 data_path,\n",
    "                 size,\n",
    "                 transform=None,\n",
    "                 fold=0,\n",
    "                 mode=\"train\"):\n",
    "        self.csv = pd.read_csv(data_path)\n",
    "        if 'kfold' in self.csv:\n",
    "            if mode == \"train\":\n",
    "                self.csv = self.csv[self.csv['kfold'] != fold]\n",
    "            elif mode == \"validation\":\n",
    "                self.csv = self.csv[self.csv['kfold'] == fold]\n",
    "        \n",
    "        self.path = self.csv['path'].to_list()\n",
    "        if 'encoded_label' in self.csv:\n",
    "            self.labels = self.csv['encoded_label'].to_list()\n",
    "        self.transform = transform\n",
    "        self.size = size\n",
    "        self.mode = mode\n",
    "    \n",
    "    def __len__(self):\n",
    "        return len(self.path)\n",
    "    \n",
    "    def __getitem__(self, idx):        \n",
    "        # Image\n",
    "        image = cv2.imread(self.path[idx])\n",
    "        image = cv2.cvtColor(image, cv2.COLOR_BGR2RGB)\n",
    "        \n",
    "        if self.transform:\n",
    "            image = self.transform(self.size)(image=image)['image']\n",
    "\n",
    "        # Only test mode\n",
    "        if self.mode == \"test\":\n",
    "            return {\n",
    "                'image': image\n",
    "            }\n",
    "        \n",
    "        # Label\n",
    "        label = self.labels[idx]\n",
    "        label = torch.tensor(label, dtype=torch.long)\n",
    "        \n",
    "        return {\n",
    "            'image': image,\n",
    "            'label': label\n",
    "        }"
   ]
  },
  {
   "cell_type": "code",
   "execution_count": null,
   "id": "638b24dc",
   "metadata": {},
   "outputs": [],
   "source": [
    "size = config[\"SIZE\"]\n",
    "TTA = [\n",
    "    lambda x: A.Compose([\n",
    "        A.Resize(size, size),\n",
    "        A.Normalize(mean=(0.485, 0.456, 0.406), std=(0.229, 0.224, 0.225)),\n",
    "        ToTensorV2()\n",
    "    ]),\n",
    "    lambda x: A.Compose([\n",
    "        A.Resize(size, size),\n",
    "        A.Normalize(mean=(0.485, 0.456, 0.406), std=(0.229, 0.224, 0.225)),\n",
    "        A.HorizontalFlip(p=1),\n",
    "        ToTensorV2()\n",
    "    ]),\n",
    "    lambda x: A.Compose([\n",
    "        A.Resize(size, size),\n",
    "        A.VerticalFlip(p=1),\n",
    "        A.Normalize(mean=(0.485, 0.456, 0.406), std=(0.229, 0.224, 0.225)),\n",
    "        ToTensorV2()\n",
    "    ]),\n",
    "    lambda x: A.Compose([\n",
    "        A.Resize(size, size),\n",
    "        A.VerticalFlip(p=1),\n",
    "        A.Normalize(mean=(0.485, 0.456, 0.406), std=(0.229, 0.224, 0.225)),\n",
    "        ToTensorV2()\n",
    "    ]),\n",
    "    lambda x: A.Compose([\n",
    "        A.Resize(size, size),\n",
    "        A.VerticalFlip(p=1),\n",
    "        A.Normalize(mean=(0.485, 0.456, 0.406), std=(0.229, 0.224, 0.225)),\n",
    "        A.ShiftScaleRotate(\n",
    "            p=1,\n",
    "            shift_limit=(-0.05, 0.05),\n",
    "            scale_limit=(-0.05, 0.05),\n",
    "            rotate_limit=(-30, 30),\n",
    "            interpolation=4,\n",
    "            border_mode=4,\n",
    "        ),\n",
    "        ToTensorV2()\n",
    "    ]),\n",
    "    lambda x: A.Compose([\n",
    "        A.Resize(size, size),\n",
    "        A.HorizontalFlip(p=1),\n",
    "        A.Normalize(mean=(0.485, 0.456, 0.406), std=(0.229, 0.224, 0.225)),\n",
    "        A.ShiftScaleRotate(\n",
    "            p=1,\n",
    "            shift_limit=(-0.05, 0.05),\n",
    "            scale_limit=(-0.05, 0.05),\n",
    "            rotate_limit=(-30, 30),\n",
    "            interpolation=4,\n",
    "            border_mode=4,\n",
    "        ),\n",
    "        ToTensorV2()\n",
    "    ]),\n",
    "    lambda x: A.Compose([\n",
    "        A.Resize(size, size),\n",
    "        A.VerticalFlip(p=1),\n",
    "        A.Normalize(mean=(0.485, 0.456, 0.406), std=(0.229, 0.224, 0.225)),\n",
    "        A.ShiftScaleRotate(\n",
    "            p=1,\n",
    "            shift_limit=(-0.05, 0.05),\n",
    "            scale_limit=(-0.05, 0.05),\n",
    "            rotate_limit=(-30, 30),\n",
    "            interpolation=4,\n",
    "            border_mode=4,\n",
    "        ),\n",
    "        ToTensorV2()\n",
    "    ])\n",
    "]"
   ]
  },
  {
   "cell_type": "code",
   "execution_count": null,
   "id": "2e561bd2",
   "metadata": {},
   "outputs": [],
   "source": [
    "test_dataset = [None] * len(TTA)\n",
    "test_loader = [None] * len(TTA)\n",
    "for idx, tta in enumerate(TTA):\n",
    "    test_dataset[idx] = CustomDataset(\n",
    "        data_path = config[\"TEST_CSV\"],\n",
    "        size = config[\"SIZE\"],\n",
    "        transform = tta,\n",
    "        fold = config[\"FOLD\"],\n",
    "        mode = \"test\"\n",
    "    )\n",
    "    test_loader[idx] = DataLoader(\n",
    "        dataset = test_dataset[idx],\n",
    "        shuffle = False,\n",
    "        batch_size = config[\"BATCH_SIZE\"],\n",
    "        num_workers = config[\"N_WORKERS\"]\n",
    "    )"
   ]
  },
  {
   "cell_type": "code",
   "execution_count": null,
   "id": "bd780e4a",
   "metadata": {},
   "outputs": [],
   "source": [
    "def score_function(real, pred):\n",
    "    score = f1_score(real, pred, average=\"macro\")\n",
    "    return score"
   ]
  },
  {
   "cell_type": "code",
   "execution_count": null,
   "id": "9d40453b",
   "metadata": {},
   "outputs": [],
   "source": [
    "with open('encoder.pickle', 'rb') as f:\n",
    "    encoder = joblib.load(f)"
   ]
  },
  {
   "cell_type": "code",
   "execution_count": null,
   "id": "2c38a58b",
   "metadata": {},
   "outputs": [],
   "source": [
    "def load_model(model_name = None, pretrained = True, num_classes = 88):\n",
    "    return timm.create_model(model_name, pretrained=pretrained, num_classes=num_classes)"
   ]
  },
  {
   "cell_type": "code",
   "execution_count": null,
   "id": "7890b93e",
   "metadata": {},
   "outputs": [],
   "source": [
    "model = load_model(config[\"MODEL\"], config[\"PRETRAINED\"], config[\"N_CLASSES\"]).to(config[\"DEVICE\"])\n",
    "#f_pred_list = []\n",
    "f_score_avg = []\n",
    "model_score_sum = 0\n",
    "for fold in config[\"FOLD\"]:\n",
    "    best_model_name = f\"{config['MODEL_SAVE_PREFIX']}_{fold}_best.pth\"\n",
    "    best_model_path = os.path.join(config['MODEL_SAVE'], best_model_name)\n",
    "    model_data = torch.load(best_model_path)\n",
    "    print(model_data[\"epoch\"], model_data[\"score\"], model_data[\"loss\"])\n",
    "    model_score_sum += model_data['score']\n",
    "    model.load_state_dict(model_data['state_dict'])\n",
    "    \n",
    "    model.eval()\n",
    "\n",
    "    f_score = []\n",
    "    f_nxt = []\n",
    "    with torch.no_grad():\n",
    "        for idx in range(len(TTA)):\n",
    "            pbar = tqdm(test_loader[idx], total=len(test_loader[idx]))\n",
    "            cur_f_score = []\n",
    "            for batch in pbar:\n",
    "                x = torch.tensor(batch['image'], dtype=torch.float32, device=config[\"DEVICE\"])\n",
    "                with torch.cuda.amp.autocast():\n",
    "                    pred = model(x)\n",
    "                cur_f_score.extend(pred.detach().cpu().numpy().tolist())\n",
    "            pbar.close()\n",
    "            if idx == 0:\n",
    "                f_score = np.array(cur_f_score)\n",
    "            else:\n",
    "                f_score = np.array(f_score) + np.array(cur_f_score)\n",
    "        f_score /= len(TTA)\n",
    "    if fold == 0:\n",
    "        f_score_avg = f_score\n",
    "    else:\n",
    "        a = np.array(f_score_avg)\n",
    "        b = np.array(f_score)\n",
    "        f_score_avg = a + b"
   ]
  },
  {
   "cell_type": "code",
   "execution_count": 1,
   "id": "97f8599b",
   "metadata": {},
   "outputs": [
    {
     "ename": "NameError",
     "evalue": "name 'model_score_sum' is not defined",
     "output_type": "error",
     "traceback": [
      "\u001b[0;31m---------------------------------------------------------------------------\u001b[0m",
      "\u001b[0;31mNameError\u001b[0m                                 Traceback (most recent call last)",
      "\u001b[0;32m/tmp/ipykernel_20739/3801297666.py\u001b[0m in \u001b[0;36m<module>\u001b[0;34m\u001b[0m\n\u001b[0;32m----> 1\u001b[0;31m \u001b[0mprint\u001b[0m\u001b[0;34m(\u001b[0m\u001b[0;34mf\"Kfold Score : {model_score_sum / len(config['FOLD'])}\"\u001b[0m\u001b[0;34m)\u001b[0m\u001b[0;34m\u001b[0m\u001b[0;34m\u001b[0m\u001b[0m\n\u001b[0m",
      "\u001b[0;31mNameError\u001b[0m: name 'model_score_sum' is not defined"
     ]
    }
   ],
   "source": [
    "print(f\"Kfold Score : {model_score_sum / len(config['FOLD'])}\")"
   ]
  },
  {
   "cell_type": "code",
   "execution_count": null,
   "id": "90119a42",
   "metadata": {},
   "outputs": [],
   "source": [
    "print(f_score_avg.shape)\n",
    "print(f_score_avg)\n",
    "f_score_avg = np.array(f_score_avg) / len(config[\"FOLD\"])"
   ]
  },
  {
   "cell_type": "code",
   "execution_count": null,
   "id": "cfb6454e",
   "metadata": {},
   "outputs": [],
   "source": [
    "y = np.array(f_score_avg).argmax(1)\n",
    "y = encoder.inverse_transform(y)\n",
    "f_pred = y.tolist()"
   ]
  },
  {
   "cell_type": "code",
   "execution_count": null,
   "id": "0b618c5d",
   "metadata": {},
   "outputs": [],
   "source": [
    "submission = pd.read_csv(config[\"TEST_CSV\"])\n",
    "submission['label'] = f_pred\n",
    "submission['score'] = f_score.tolist()\n",
    "del submission['file_name']\n",
    "del submission['path']\n",
    "submission"
   ]
  },
  {
   "cell_type": "code",
   "execution_count": null,
   "id": "4649ce5c",
   "metadata": {},
   "outputs": [],
   "source": [
    "submission.to_csv(config[\"SUBMISSION_CSV\"], index=None)"
   ]
  }
 ],
 "metadata": {
  "kernelspec": {
   "display_name": "Python 3 (ipykernel)",
   "language": "python",
   "name": "python3"
  },
  "language_info": {
   "codemirror_mode": {
    "name": "ipython",
    "version": 3
   },
   "file_extension": ".py",
   "mimetype": "text/x-python",
   "name": "python",
   "nbconvert_exporter": "python",
   "pygments_lexer": "ipython3",
   "version": "3.8.12"
  }
 },
 "nbformat": 4,
 "nbformat_minor": 5
}
