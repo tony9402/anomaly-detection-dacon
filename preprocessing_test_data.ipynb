{
 "cells": [
  {
   "cell_type": "code",
   "execution_count": null,
   "id": "55e0127a",
   "metadata": {},
   "outputs": [],
   "source": [
    "import warnings\n",
    "warnings.filterwarnings('ignore')\n",
    "\n",
    "from glob import glob\n",
    "import pandas as pd\n",
    "import numpy as np\n",
    "\n",
    "from tqdm import tqdm\n",
    "import os\n",
    "\n",
    "from sklearn.model_selection import StratifiedKFold\n",
    "from sklearn.preprocessing import LabelEncoder\n",
    "\n",
    "import joblib"
   ]
  },
  {
   "cell_type": "code",
   "execution_count": null,
   "id": "6d8941ac",
   "metadata": {},
   "outputs": [],
   "source": [
    "# Config\n",
    "test_png_path     = \"./data/test/*.png\"\n",
    "test_pandas_path = \"./data/train_df.csv\""
   ]
  },
  {
   "cell_type": "code",
   "execution_count": null,
   "id": "d2bf3e70",
   "metadata": {},
   "outputs": [],
   "source": [
    "test_png = sorted(glob(test_png_path))\n",
    "test_data = pd.read_csv(test_pandas_path)"
   ]
  },
  {
   "cell_type": "code",
   "execution_count": null,
   "id": "8d8e6559",
   "metadata": {},
   "outputs": [],
   "source": [
    "test_data"
   ]
  },
  {
   "cell_type": "code",
   "execution_count": null,
   "id": "d6c309af",
   "metadata": {},
   "outputs": [],
   "source": [
    "file_names = test_data[\"file_name\"]"
   ]
  },
  {
   "cell_type": "code",
   "execution_count": null,
   "id": "668924a4",
   "metadata": {},
   "outputs": [],
   "source": [
    "def binarySearch(x):\n",
    "    l, r = 0, len(file_names) - 1\n",
    "    while l <= r:\n",
    "        mid = (l + r) // 2\n",
    "        if file_names[mid] == x:\n",
    "            return True\n",
    "        if x < file_names[mid]:\n",
    "            r = mid - 1\n",
    "        else:\n",
    "            l = mid + 1\n",
    "    return False"
   ]
  },
  {
   "cell_type": "code",
   "execution_count": null,
   "id": "f4df4106",
   "metadata": {},
   "outputs": [],
   "source": [
    "data_path = []\n",
    "for path in test_png:\n",
    "    ppath = os.path.abspath(path)\n",
    "    filename = ppath.split('/')[-1]\n",
    "    if binarySearch(filename):\n",
    "        data_path.append(ppath)\n",
    "    else:\n",
    "        data_path.append('-')\n",
    "        assert False"
   ]
  },
  {
   "cell_type": "code",
   "execution_count": null,
   "id": "5b5510e7",
   "metadata": {},
   "outputs": [],
   "source": [
    "test_data['path'] = data_path"
   ]
  },
  {
   "cell_type": "code",
   "execution_count": null,
   "id": "4d2ddf75",
   "metadata": {},
   "outputs": [],
   "source": [
    "test_data"
   ]
  },
  {
   "cell_type": "code",
   "execution_count": null,
   "id": "de6da8c3",
   "metadata": {},
   "outputs": [],
   "source": [
    "train_data.to_csv('test_data.csv', index=None)"
   ]
  }
 ],
 "metadata": {
  "kernelspec": {
   "display_name": "Python 3 (ipykernel)",
   "language": "python",
   "name": "python3"
  },
  "language_info": {
   "codemirror_mode": {
    "name": "ipython",
    "version": 3
   },
   "file_extension": ".py",
   "mimetype": "text/x-python",
   "name": "python",
   "nbconvert_exporter": "python",
   "pygments_lexer": "ipython3",
   "version": "3.8.12"
  }
 },
 "nbformat": 4,
 "nbformat_minor": 5
}
