{
 "cells": [
  {
   "cell_type": "code",
   "execution_count": 1,
   "id": "b3941255",
   "metadata": {},
   "outputs": [],
   "source": [
    "import warnings\n",
    "warnings.filterwarnings('ignore')\n",
    "\n",
    "from glob import glob\n",
    "import pandas as pd\n",
    "import numpy as np \n",
    "from tqdm import tqdm\n",
    "import cv2\n",
    "\n",
    "import os\n",
    "import timm\n",
    "import random\n",
    "\n",
    "import albumentations as A\n",
    "from albumentations.pytorch import transforms, ToTensorV2\n",
    "\n",
    "import torch\n",
    "from torch.utils.data import Dataset, DataLoader\n",
    "import torch.nn as nn\n",
    "import torchvision.transforms as transforms\n",
    "\n",
    "from sklearn.metrics import f1_score, accuracy_score"
   ]
  },
  {
   "cell_type": "code",
   "execution_count": 2,
   "id": "902f8525",
   "metadata": {},
   "outputs": [],
   "source": [
    "# !pip3 install timm albumentations"
   ]
  },
  {
   "cell_type": "code",
   "execution_count": 3,
   "id": "798ad068",
   "metadata": {},
   "outputs": [],
   "source": [
    "# Configs\n",
    "config = {\n",
    "    \"SEED\": 777,\n",
    "    \"SIZE\": 512,\n",
    "    \"CSV\": \"./train_kfold.csv\",\n",
    "    \n",
    "    \"FOLD\": 0,\n",
    "    \"BATCH_SIZE\": 8,\n",
    "    \"LEARNING_RATE\": 0.001,\n",
    "    \"EPOCHS\": 30,\n",
    "    \"N_WORKERS\": 4,\n",
    "    \n",
    "    \"MODEL\": \"tf_efficientnet_b7\",\n",
    "    \"MODEL_SAVE\": \"./b7_model\",\n",
    "    \"MODEL_SAVE_PREFIX\": \"b7_777_\",\n",
    "    \n",
    "    \"DEVICE\": torch.device(\"cuda\" if torch.cuda.is_available() else \"cpu\")\n",
    "}"
   ]
  },
  {
   "cell_type": "code",
   "execution_count": 4,
   "id": "a90abf52",
   "metadata": {},
   "outputs": [],
   "source": [
    "if not os.path.exists(config[\"MODEL_SAVE\"]):\n",
    "    os.makedirs(config[\"MODEL_SAVE\"], exist_ok=True)"
   ]
  },
  {
   "cell_type": "code",
   "execution_count": 5,
   "id": "43559f76",
   "metadata": {},
   "outputs": [],
   "source": [
    "random.seed(config[\"SEED\"])\n",
    "torch.cuda.manual_seed(config[\"SEED\"])\n",
    "torch.manual_seed(config[\"SEED\"])\n",
    "torch.cuda.empty_cache()"
   ]
  },
  {
   "cell_type": "code",
   "execution_count": 6,
   "id": "50448efe",
   "metadata": {},
   "outputs": [],
   "source": [
    "class CustomDataset(Dataset):\n",
    "    def __init__(self,\n",
    "                 data_path,\n",
    "                 size,\n",
    "                 transform=None,\n",
    "                 fold=0,\n",
    "                 mode=\"train\"):\n",
    "        self.csv = pd.read_csv(data_path)\n",
    "        if mode == \"train\":\n",
    "            self.csv = self.csv[self.csv['kfold'] != fold]\n",
    "        elif mode == \"validation\":\n",
    "            self.csv = self.csv[self.csv['kfold'] == fold]\n",
    "        \n",
    "        self.path = self.csv['path'].to_list()\n",
    "        self.labels = self.csv['encoded_label'].to_list()\n",
    "        self.transform = transform\n",
    "        self.size = size\n",
    "        self.mode = mode\n",
    "    \n",
    "    def __len__(self):\n",
    "        return len(self.path)\n",
    "    \n",
    "    def __getitem__(self, idx):        \n",
    "        # Image\n",
    "        image = cv2.imread(self.path[idx])\n",
    "        image = cv2.cvtColor(image, cv2.COLOR_BGR2RGB)\n",
    "        \n",
    "        if self.transform:\n",
    "            image = self.transform(self.size)(image=image)['image']\n",
    "        \n",
    "        # Only test mode\n",
    "        if self.mode == \"test\":\n",
    "            return {\n",
    "                'image': image\n",
    "            }\n",
    "        \n",
    "        # Label\n",
    "        label = self.labels[idx]\n",
    "        label = torch.tensor(label, dtype=torch.long)\n",
    "        \n",
    "        return {\n",
    "            'image': image,\n",
    "            'label': label\n",
    "        }"
   ]
  },
  {
   "cell_type": "code",
   "execution_count": 7,
   "id": "dd5c1d66",
   "metadata": {},
   "outputs": [],
   "source": [
    "def create_train_transforms(size=512):\n",
    "    return A.Compose([\n",
    "        A.Resize(size, size),\n",
    "        A.RandomBrightnessContrast(\n",
    "            brightness_limit=(-0.1, 0.1),\n",
    "            contrast_limit=(-0.1, 0.1),\n",
    "            p=0.3\n",
    "        ),\n",
    "        ToTensorV2()\n",
    "    ])"
   ]
  },
  {
   "cell_type": "code",
   "execution_count": 8,
   "id": "ebeab622",
   "metadata": {},
   "outputs": [],
   "source": [
    "def create_validation_transforms(size=128):\n",
    "    return A.Compose([\n",
    "        A.Resize(size, size),\n",
    "        ToTensorV2()\n",
    "    ])"
   ]
  },
  {
   "cell_type": "code",
   "execution_count": 9,
   "id": "6d35e385",
   "metadata": {},
   "outputs": [],
   "source": [
    "train_dataset = CustomDataset(\n",
    "    data_path = config[\"CSV\"],\n",
    "    size = config[\"SIZE\"],\n",
    "    transform = create_train_transforms,\n",
    "    fold = config[\"FOLD\"],\n",
    "    mode = \"train\"\n",
    ")\n",
    "validation_dataset = CustomDataset(\n",
    "    data_path = config[\"CSV\"],\n",
    "    size = config[\"SIZE\"],\n",
    "    transform = create_validation_transforms,\n",
    "    fold = config[\"FOLD\"],\n",
    "    mode = \"validation\"\n",
    ")\n",
    "train_loader = DataLoader(\n",
    "    dataset = train_dataset,\n",
    "    shuffle = True,\n",
    "    batch_size = config[\"BATCH_SIZE\"],\n",
    "    num_workers = config[\"N_WORKERS\"]\n",
    ")\n",
    "validation_loader = DataLoader(\n",
    "    dataset = validation_dataset,\n",
    "    shuffle = False,\n",
    "    batch_size = config[\"BATCH_SIZE\"],\n",
    "    num_workers = config[\"N_WORKERS\"]\n",
    ")"
   ]
  },
  {
   "cell_type": "code",
   "execution_count": 10,
   "id": "53c37c4a",
   "metadata": {},
   "outputs": [],
   "source": [
    "# Create Model (Using timm library)\n",
    "class CustomModel(nn.Module):\n",
    "    def __init__(self, model_name = None, pretrained = True, num_classes = 88):\n",
    "        super(CustomModel, self).__init__()\n",
    "        self.model = timm.create_model(model_name,\n",
    "                                       pretrained = pretrained,\n",
    "                                       num_classes = num_classes)\n",
    "    def forward(self, x):\n",
    "        return self.model(x)"
   ]
  },
  {
   "cell_type": "code",
   "execution_count": 11,
   "id": "88b4f47c",
   "metadata": {},
   "outputs": [],
   "source": [
    "model = CustomModel(config[\"MODEL\"]).to(config[\"DEVICE\"])"
   ]
  },
  {
   "cell_type": "code",
   "execution_count": 12,
   "id": "6b3b3648",
   "metadata": {},
   "outputs": [],
   "source": [
    "optimizer = torch.optim.Adam(model.parameters(), lr=config[\"LEARNING_RATE\"])\n",
    "criterion = nn.CrossEntropyLoss()\n",
    "scaler = torch.cuda.amp.GradScaler()"
   ]
  },
  {
   "cell_type": "code",
   "execution_count": 13,
   "id": "fb8fb9d7",
   "metadata": {},
   "outputs": [],
   "source": [
    "def score_function(real, pred):\n",
    "    score = f1_score(real, pred, average=\"macro\")\n",
    "    return score"
   ]
  },
  {
   "cell_type": "code",
   "execution_count": 14,
   "id": "e147ff20",
   "metadata": {},
   "outputs": [
    {
     "name": "stderr",
     "output_type": "stream",
     "text": [
      "100%|██████████| 401/401 [01:43<00:00,  3.89it/s, epoch=0/30, train_loss=1.34686, total_train_loss=1.34686]\n"
     ]
    },
    {
     "name": "stdout",
     "output_type": "stream",
     "text": [
      "TRAIN\tf1 : 0.15419\n"
     ]
    },
    {
     "name": "stderr",
     "output_type": "stream",
     "text": [
      "100%|██████████| 134/134 [00:07<00:00, 17.25it/s, epoch=0/30, val_loss=0.91163, total_val_loss=0.91163]\n"
     ]
    },
    {
     "name": "stdout",
     "output_type": "stream",
     "text": [
      "VAL\tf1 : 0.17926\n"
     ]
    },
    {
     "name": "stderr",
     "output_type": "stream",
     "text": [
      "100%|██████████| 401/401 [01:41<00:00,  3.93it/s, epoch=1/30, train_loss=0.80049, total_train_loss=0.80049]\n"
     ]
    },
    {
     "name": "stdout",
     "output_type": "stream",
     "text": [
      "TRAIN\tf1 : 0.22162\n"
     ]
    },
    {
     "name": "stderr",
     "output_type": "stream",
     "text": [
      "100%|██████████| 134/134 [00:07<00:00, 17.28it/s, epoch=1/30, val_loss=0.92063, total_val_loss=0.92063]\n"
     ]
    },
    {
     "name": "stdout",
     "output_type": "stream",
     "text": [
      "VAL\tf1 : 0.23628\n"
     ]
    },
    {
     "name": "stderr",
     "output_type": "stream",
     "text": [
      "100%|██████████| 401/401 [01:42<00:00,  3.93it/s, epoch=2/30, train_loss=0.68992, total_train_loss=0.68992]\n"
     ]
    },
    {
     "name": "stdout",
     "output_type": "stream",
     "text": [
      "TRAIN\tf1 : 0.26333\n"
     ]
    },
    {
     "name": "stderr",
     "output_type": "stream",
     "text": [
      "100%|██████████| 134/134 [00:07<00:00, 17.28it/s, epoch=2/30, val_loss=0.68197, total_val_loss=0.68197]\n"
     ]
    },
    {
     "name": "stdout",
     "output_type": "stream",
     "text": [
      "VAL\tf1 : 0.26061\n"
     ]
    },
    {
     "name": "stderr",
     "output_type": "stream",
     "text": [
      "100%|██████████| 401/401 [01:42<00:00,  3.93it/s, epoch=3/30, train_loss=0.60430, total_train_loss=0.60430]\n"
     ]
    },
    {
     "name": "stdout",
     "output_type": "stream",
     "text": [
      "TRAIN\tf1 : 0.28867\n"
     ]
    },
    {
     "name": "stderr",
     "output_type": "stream",
     "text": [
      "100%|██████████| 134/134 [00:07<00:00, 17.31it/s, epoch=3/30, val_loss=0.49939, total_val_loss=0.49939]\n"
     ]
    },
    {
     "name": "stdout",
     "output_type": "stream",
     "text": [
      "VAL\tf1 : 0.32975\n"
     ]
    },
    {
     "name": "stderr",
     "output_type": "stream",
     "text": [
      "100%|██████████| 401/401 [01:42<00:00,  3.92it/s, epoch=4/30, train_loss=0.57763, total_train_loss=0.57763]\n"
     ]
    },
    {
     "name": "stdout",
     "output_type": "stream",
     "text": [
      "TRAIN\tf1 : 0.33566\n"
     ]
    },
    {
     "name": "stderr",
     "output_type": "stream",
     "text": [
      "100%|██████████| 134/134 [00:07<00:00, 17.24it/s, epoch=4/30, val_loss=0.65068, total_val_loss=0.65068]\n"
     ]
    },
    {
     "name": "stdout",
     "output_type": "stream",
     "text": [
      "VAL\tf1 : 0.29698\n"
     ]
    },
    {
     "name": "stderr",
     "output_type": "stream",
     "text": [
      "100%|██████████| 401/401 [01:42<00:00,  3.92it/s, epoch=5/30, train_loss=0.53747, total_train_loss=0.53747]\n"
     ]
    },
    {
     "name": "stdout",
     "output_type": "stream",
     "text": [
      "TRAIN\tf1 : 0.37148\n"
     ]
    },
    {
     "name": "stderr",
     "output_type": "stream",
     "text": [
      "100%|██████████| 134/134 [00:07<00:00, 17.19it/s, epoch=5/30, val_loss=0.54519, total_val_loss=0.54519]\n"
     ]
    },
    {
     "name": "stdout",
     "output_type": "stream",
     "text": [
      "VAL\tf1 : 0.29062\n"
     ]
    },
    {
     "name": "stderr",
     "output_type": "stream",
     "text": [
      "100%|██████████| 401/401 [01:42<00:00,  3.92it/s, epoch=6/30, train_loss=0.48716, total_train_loss=0.48716]\n"
     ]
    },
    {
     "name": "stdout",
     "output_type": "stream",
     "text": [
      "TRAIN\tf1 : 0.38775\n"
     ]
    },
    {
     "name": "stderr",
     "output_type": "stream",
     "text": [
      "100%|██████████| 134/134 [00:07<00:00, 17.14it/s, epoch=6/30, val_loss=0.50976, total_val_loss=0.50976]\n"
     ]
    },
    {
     "name": "stdout",
     "output_type": "stream",
     "text": [
      "VAL\tf1 : 0.39684\n"
     ]
    },
    {
     "name": "stderr",
     "output_type": "stream",
     "text": [
      "100%|██████████| 401/401 [01:42<00:00,  3.92it/s, epoch=7/30, train_loss=0.46864, total_train_loss=0.46864]\n"
     ]
    },
    {
     "name": "stdout",
     "output_type": "stream",
     "text": [
      "TRAIN\tf1 : 0.43350\n"
     ]
    },
    {
     "name": "stderr",
     "output_type": "stream",
     "text": [
      "100%|██████████| 134/134 [00:07<00:00, 17.27it/s, epoch=7/30, val_loss=0.66389, total_val_loss=0.66389]\n"
     ]
    },
    {
     "name": "stdout",
     "output_type": "stream",
     "text": [
      "VAL\tf1 : 0.31340\n"
     ]
    },
    {
     "name": "stderr",
     "output_type": "stream",
     "text": [
      "100%|██████████| 401/401 [01:42<00:00,  3.93it/s, epoch=8/30, train_loss=0.40514, total_train_loss=0.40514]\n"
     ]
    },
    {
     "name": "stdout",
     "output_type": "stream",
     "text": [
      "TRAIN\tf1 : 0.47549\n"
     ]
    },
    {
     "name": "stderr",
     "output_type": "stream",
     "text": [
      "100%|██████████| 134/134 [00:07<00:00, 17.20it/s, epoch=8/30, val_loss=0.48045, total_val_loss=0.48045]\n"
     ]
    },
    {
     "name": "stdout",
     "output_type": "stream",
     "text": [
      "VAL\tf1 : 0.40200\n"
     ]
    },
    {
     "name": "stderr",
     "output_type": "stream",
     "text": [
      "100%|██████████| 401/401 [01:42<00:00,  3.92it/s, epoch=9/30, train_loss=0.34830, total_train_loss=0.34830]\n"
     ]
    },
    {
     "name": "stdout",
     "output_type": "stream",
     "text": [
      "TRAIN\tf1 : 0.53136\n"
     ]
    },
    {
     "name": "stderr",
     "output_type": "stream",
     "text": [
      "100%|██████████| 134/134 [00:07<00:00, 17.19it/s, epoch=9/30, val_loss=0.55695, total_val_loss=0.55695]\n"
     ]
    },
    {
     "name": "stdout",
     "output_type": "stream",
     "text": [
      "VAL\tf1 : 0.40268\n"
     ]
    },
    {
     "name": "stderr",
     "output_type": "stream",
     "text": [
      "100%|██████████| 401/401 [01:42<00:00,  3.92it/s, epoch=10/30, train_loss=0.39081, total_train_loss=0.39081]\n"
     ]
    },
    {
     "name": "stdout",
     "output_type": "stream",
     "text": [
      "TRAIN\tf1 : 0.52352\n"
     ]
    },
    {
     "name": "stderr",
     "output_type": "stream",
     "text": [
      "100%|██████████| 134/134 [00:07<00:00, 17.15it/s, epoch=10/30, val_loss=0.52171, total_val_loss=0.52171]\n"
     ]
    },
    {
     "name": "stdout",
     "output_type": "stream",
     "text": [
      "VAL\tf1 : 0.40660\n"
     ]
    },
    {
     "name": "stderr",
     "output_type": "stream",
     "text": [
      "100%|██████████| 401/401 [01:42<00:00,  3.92it/s, epoch=11/30, train_loss=0.34400, total_train_loss=0.34400]\n"
     ]
    },
    {
     "name": "stdout",
     "output_type": "stream",
     "text": [
      "TRAIN\tf1 : 0.55925\n"
     ]
    },
    {
     "name": "stderr",
     "output_type": "stream",
     "text": [
      "100%|██████████| 134/134 [00:07<00:00, 17.13it/s, epoch=11/30, val_loss=0.41201, total_val_loss=0.41201]\n"
     ]
    },
    {
     "name": "stdout",
     "output_type": "stream",
     "text": [
      "VAL\tf1 : 0.46472\n"
     ]
    },
    {
     "name": "stderr",
     "output_type": "stream",
     "text": [
      "100%|██████████| 401/401 [01:42<00:00,  3.92it/s, epoch=12/30, train_loss=0.27969, total_train_loss=0.27969]\n"
     ]
    },
    {
     "name": "stdout",
     "output_type": "stream",
     "text": [
      "TRAIN\tf1 : 0.60976\n"
     ]
    },
    {
     "name": "stderr",
     "output_type": "stream",
     "text": [
      "100%|██████████| 134/134 [00:07<00:00, 17.16it/s, epoch=12/30, val_loss=0.54466, total_val_loss=0.54466]\n"
     ]
    },
    {
     "name": "stdout",
     "output_type": "stream",
     "text": [
      "VAL\tf1 : 0.46711\n"
     ]
    },
    {
     "name": "stderr",
     "output_type": "stream",
     "text": [
      "100%|██████████| 401/401 [01:42<00:00,  3.92it/s, epoch=13/30, train_loss=0.27098, total_train_loss=0.27098]\n"
     ]
    },
    {
     "name": "stdout",
     "output_type": "stream",
     "text": [
      "TRAIN\tf1 : 0.64939\n"
     ]
    },
    {
     "name": "stderr",
     "output_type": "stream",
     "text": [
      "100%|██████████| 134/134 [00:07<00:00, 17.24it/s, epoch=13/30, val_loss=0.78520, total_val_loss=0.78520]\n"
     ]
    },
    {
     "name": "stdout",
     "output_type": "stream",
     "text": [
      "VAL\tf1 : 0.41899\n"
     ]
    },
    {
     "name": "stderr",
     "output_type": "stream",
     "text": [
      "100%|██████████| 401/401 [01:42<00:00,  3.92it/s, epoch=14/30, train_loss=0.27039, total_train_loss=0.27039]\n"
     ]
    },
    {
     "name": "stdout",
     "output_type": "stream",
     "text": [
      "TRAIN\tf1 : 0.63919\n"
     ]
    },
    {
     "name": "stderr",
     "output_type": "stream",
     "text": [
      "100%|██████████| 134/134 [00:07<00:00, 17.22it/s, epoch=14/30, val_loss=0.42249, total_val_loss=0.42249]\n"
     ]
    },
    {
     "name": "stdout",
     "output_type": "stream",
     "text": [
      "VAL\tf1 : 0.52855\n"
     ]
    },
    {
     "name": "stderr",
     "output_type": "stream",
     "text": [
      "100%|██████████| 401/401 [01:42<00:00,  3.92it/s, epoch=15/30, train_loss=0.22743, total_train_loss=0.22743]\n"
     ]
    },
    {
     "name": "stdout",
     "output_type": "stream",
     "text": [
      "TRAIN\tf1 : 0.68678\n"
     ]
    },
    {
     "name": "stderr",
     "output_type": "stream",
     "text": [
      "100%|██████████| 134/134 [00:07<00:00, 17.33it/s, epoch=15/30, val_loss=0.50054, total_val_loss=0.50054]\n"
     ]
    },
    {
     "name": "stdout",
     "output_type": "stream",
     "text": [
      "VAL\tf1 : 0.48673\n"
     ]
    },
    {
     "name": "stderr",
     "output_type": "stream",
     "text": [
      "100%|██████████| 401/401 [01:42<00:00,  3.92it/s, epoch=16/30, train_loss=0.20240, total_train_loss=0.20240]\n"
     ]
    },
    {
     "name": "stdout",
     "output_type": "stream",
     "text": [
      "TRAIN\tf1 : 0.71934\n"
     ]
    },
    {
     "name": "stderr",
     "output_type": "stream",
     "text": [
      "100%|██████████| 134/134 [00:07<00:00, 17.14it/s, epoch=16/30, val_loss=0.66843, total_val_loss=0.66843]\n"
     ]
    },
    {
     "name": "stdout",
     "output_type": "stream",
     "text": [
      "VAL\tf1 : 0.50246\n"
     ]
    },
    {
     "name": "stderr",
     "output_type": "stream",
     "text": [
      "100%|██████████| 401/401 [01:42<00:00,  3.92it/s, epoch=17/30, train_loss=0.21321, total_train_loss=0.21321]\n"
     ]
    },
    {
     "name": "stdout",
     "output_type": "stream",
     "text": [
      "TRAIN\tf1 : 0.71359\n"
     ]
    },
    {
     "name": "stderr",
     "output_type": "stream",
     "text": [
      "100%|██████████| 134/134 [00:07<00:00, 17.30it/s, epoch=17/30, val_loss=0.54571, total_val_loss=0.54571]\n"
     ]
    },
    {
     "name": "stdout",
     "output_type": "stream",
     "text": [
      "VAL\tf1 : 0.49763\n"
     ]
    },
    {
     "name": "stderr",
     "output_type": "stream",
     "text": [
      "100%|██████████| 401/401 [01:42<00:00,  3.92it/s, epoch=18/30, train_loss=0.20076, total_train_loss=0.20076]\n"
     ]
    },
    {
     "name": "stdout",
     "output_type": "stream",
     "text": [
      "TRAIN\tf1 : 0.72347\n"
     ]
    },
    {
     "name": "stderr",
     "output_type": "stream",
     "text": [
      "100%|██████████| 134/134 [00:07<00:00, 17.18it/s, epoch=18/30, val_loss=0.41422, total_val_loss=0.41422]\n"
     ]
    },
    {
     "name": "stdout",
     "output_type": "stream",
     "text": [
      "VAL\tf1 : 0.56469\n"
     ]
    },
    {
     "name": "stderr",
     "output_type": "stream",
     "text": [
      "100%|██████████| 401/401 [01:42<00:00,  3.92it/s, epoch=19/30, train_loss=0.16634, total_train_loss=0.16634]\n"
     ]
    },
    {
     "name": "stdout",
     "output_type": "stream",
     "text": [
      "TRAIN\tf1 : 0.76667\n"
     ]
    },
    {
     "name": "stderr",
     "output_type": "stream",
     "text": [
      "100%|██████████| 134/134 [00:07<00:00, 17.29it/s, epoch=19/30, val_loss=0.52054, total_val_loss=0.52054]\n"
     ]
    },
    {
     "name": "stdout",
     "output_type": "stream",
     "text": [
      "VAL\tf1 : 0.54174\n"
     ]
    },
    {
     "name": "stderr",
     "output_type": "stream",
     "text": [
      "100%|██████████| 401/401 [01:42<00:00,  3.93it/s, epoch=20/30, train_loss=0.17071, total_train_loss=0.17071]\n"
     ]
    },
    {
     "name": "stdout",
     "output_type": "stream",
     "text": [
      "TRAIN\tf1 : 0.78543\n"
     ]
    },
    {
     "name": "stderr",
     "output_type": "stream",
     "text": [
      "100%|██████████| 134/134 [00:07<00:00, 17.22it/s, epoch=20/30, val_loss=0.58655, total_val_loss=0.58655]\n"
     ]
    },
    {
     "name": "stdout",
     "output_type": "stream",
     "text": [
      "VAL\tf1 : 0.49989\n"
     ]
    },
    {
     "name": "stderr",
     "output_type": "stream",
     "text": [
      "100%|██████████| 401/401 [01:42<00:00,  3.92it/s, epoch=21/30, train_loss=0.17990, total_train_loss=0.17990]\n"
     ]
    },
    {
     "name": "stdout",
     "output_type": "stream",
     "text": [
      "TRAIN\tf1 : 0.76334\n"
     ]
    },
    {
     "name": "stderr",
     "output_type": "stream",
     "text": [
      "100%|██████████| 134/134 [00:07<00:00, 17.31it/s, epoch=21/30, val_loss=0.47552, total_val_loss=0.47552]\n"
     ]
    },
    {
     "name": "stdout",
     "output_type": "stream",
     "text": [
      "VAL\tf1 : 0.56233\n"
     ]
    },
    {
     "name": "stderr",
     "output_type": "stream",
     "text": [
      "100%|██████████| 401/401 [01:42<00:00,  3.92it/s, epoch=22/30, train_loss=0.12582, total_train_loss=0.12582]\n"
     ]
    },
    {
     "name": "stdout",
     "output_type": "stream",
     "text": [
      "TRAIN\tf1 : 0.84249\n"
     ]
    },
    {
     "name": "stderr",
     "output_type": "stream",
     "text": [
      "100%|██████████| 134/134 [00:07<00:00, 17.30it/s, epoch=22/30, val_loss=0.48031, total_val_loss=0.48031]\n"
     ]
    },
    {
     "name": "stdout",
     "output_type": "stream",
     "text": [
      "VAL\tf1 : 0.56541\n"
     ]
    },
    {
     "name": "stderr",
     "output_type": "stream",
     "text": [
      "100%|██████████| 401/401 [01:42<00:00,  3.92it/s, epoch=23/30, train_loss=0.11868, total_train_loss=0.11868]\n"
     ]
    },
    {
     "name": "stdout",
     "output_type": "stream",
     "text": [
      "TRAIN\tf1 : 0.86765\n"
     ]
    },
    {
     "name": "stderr",
     "output_type": "stream",
     "text": [
      "100%|██████████| 134/134 [00:07<00:00, 17.30it/s, epoch=23/30, val_loss=0.47270, total_val_loss=0.47270]\n"
     ]
    },
    {
     "name": "stdout",
     "output_type": "stream",
     "text": [
      "VAL\tf1 : 0.58803\n"
     ]
    },
    {
     "name": "stderr",
     "output_type": "stream",
     "text": [
      "100%|██████████| 401/401 [01:42<00:00,  3.92it/s, epoch=24/30, train_loss=0.11772, total_train_loss=0.11772]\n"
     ]
    },
    {
     "name": "stdout",
     "output_type": "stream",
     "text": [
      "TRAIN\tf1 : 0.86321\n"
     ]
    },
    {
     "name": "stderr",
     "output_type": "stream",
     "text": [
      "100%|██████████| 134/134 [00:07<00:00, 17.10it/s, epoch=24/30, val_loss=0.49680, total_val_loss=0.49680]\n"
     ]
    },
    {
     "name": "stdout",
     "output_type": "stream",
     "text": [
      "VAL\tf1 : 0.53308\n"
     ]
    },
    {
     "name": "stderr",
     "output_type": "stream",
     "text": [
      "100%|██████████| 401/401 [01:42<00:00,  3.92it/s, epoch=25/30, train_loss=0.15527, total_train_loss=0.15527]\n"
     ]
    },
    {
     "name": "stdout",
     "output_type": "stream",
     "text": [
      "TRAIN\tf1 : 0.81332\n"
     ]
    },
    {
     "name": "stderr",
     "output_type": "stream",
     "text": [
      "100%|██████████| 134/134 [00:07<00:00, 17.23it/s, epoch=25/30, val_loss=0.51503, total_val_loss=0.51503]\n"
     ]
    },
    {
     "name": "stdout",
     "output_type": "stream",
     "text": [
      "VAL\tf1 : 0.54169\n"
     ]
    },
    {
     "name": "stderr",
     "output_type": "stream",
     "text": [
      "100%|██████████| 401/401 [01:42<00:00,  3.93it/s, epoch=26/30, train_loss=0.07532, total_train_loss=0.07532]\n"
     ]
    },
    {
     "name": "stdout",
     "output_type": "stream",
     "text": [
      "TRAIN\tf1 : 0.91124\n"
     ]
    },
    {
     "name": "stderr",
     "output_type": "stream",
     "text": [
      "100%|██████████| 134/134 [00:07<00:00, 17.29it/s, epoch=26/30, val_loss=0.63885, total_val_loss=0.63885]\n"
     ]
    },
    {
     "name": "stdout",
     "output_type": "stream",
     "text": [
      "VAL\tf1 : 0.57397\n"
     ]
    },
    {
     "name": "stderr",
     "output_type": "stream",
     "text": [
      "100%|██████████| 401/401 [01:42<00:00,  3.92it/s, epoch=27/30, train_loss=0.05373, total_train_loss=0.05373]\n"
     ]
    },
    {
     "name": "stdout",
     "output_type": "stream",
     "text": [
      "TRAIN\tf1 : 0.93240\n"
     ]
    },
    {
     "name": "stderr",
     "output_type": "stream",
     "text": [
      "100%|██████████| 134/134 [00:07<00:00, 17.20it/s, epoch=27/30, val_loss=0.59522, total_val_loss=0.59522]\n"
     ]
    },
    {
     "name": "stdout",
     "output_type": "stream",
     "text": [
      "VAL\tf1 : 0.55904\n"
     ]
    },
    {
     "name": "stderr",
     "output_type": "stream",
     "text": [
      "100%|██████████| 401/401 [01:42<00:00,  3.92it/s, epoch=28/30, train_loss=0.11536, total_train_loss=0.11536]\n"
     ]
    },
    {
     "name": "stdout",
     "output_type": "stream",
     "text": [
      "TRAIN\tf1 : 0.86493\n"
     ]
    },
    {
     "name": "stderr",
     "output_type": "stream",
     "text": [
      "100%|██████████| 134/134 [00:07<00:00, 17.12it/s, epoch=28/30, val_loss=0.74549, total_val_loss=0.74549]\n"
     ]
    },
    {
     "name": "stdout",
     "output_type": "stream",
     "text": [
      "VAL\tf1 : 0.44227\n"
     ]
    },
    {
     "name": "stderr",
     "output_type": "stream",
     "text": [
      "100%|██████████| 401/401 [01:42<00:00,  3.92it/s, epoch=29/30, train_loss=0.11954, total_train_loss=0.11954]\n"
     ]
    },
    {
     "name": "stdout",
     "output_type": "stream",
     "text": [
      "TRAIN\tf1 : 0.86647\n"
     ]
    },
    {
     "name": "stderr",
     "output_type": "stream",
     "text": [
      "100%|██████████| 134/134 [00:07<00:00, 17.14it/s, epoch=29/30, val_loss=0.66838, total_val_loss=0.66838]\n"
     ]
    },
    {
     "name": "stdout",
     "output_type": "stream",
     "text": [
      "VAL\tf1 : 0.51935\n"
     ]
    }
   ],
   "source": [
    "best_loss, best_pred = float('inf'), 0\n",
    "for epoch in range(config[\"EPOCHS\"]):\n",
    "    train_loss = 0\n",
    "    total_train_loss = 0\n",
    "    train_data_cnt = 0\n",
    "    train_pred=[]\n",
    "    train_y=[]\n",
    "    model.train()\n",
    "    pbar = tqdm(train_loader, total=len(train_loader))\n",
    "    for batch in pbar:\n",
    "        optimizer.zero_grad()\n",
    "        x = torch.tensor(batch['image'], dtype=torch.float32, device=config[\"DEVICE\"])\n",
    "        y = torch.tensor(batch['label'], dtype=torch.long, device=config[\"DEVICE\"])\n",
    "        with torch.cuda.amp.autocast():\n",
    "            pred = model(x)\n",
    "        loss = criterion(pred, y)\n",
    "\n",
    "        scaler.scale(loss).backward()\n",
    "        scaler.step(optimizer)\n",
    "        scaler.update()\n",
    "        \n",
    "        total_train_loss += loss.item() / len(train_loader)\n",
    "        train_loss = train_loss * train_data_cnt + loss.item()\n",
    "        train_data_cnt += 1\n",
    "        train_loss /= train_data_cnt\n",
    "        train_pred += pred.argmax(1).detach().cpu().numpy().tolist()\n",
    "        train_y += y.detach().cpu().numpy().tolist()\n",
    "        pbar.set_postfix({\n",
    "            \"epoch\": f\"{epoch}/{config['EPOCHS']}\",\n",
    "            \"train_loss\" : f\"{train_loss:.5f}\",\n",
    "            \"total_train_loss\": f\"{total_train_loss:.5f}\"\n",
    "        })\n",
    "        \n",
    "    pbar.close()\n",
    "    train_f1 = score_function(train_y, train_pred)\n",
    "    print(f'TRAIN\\tf1 : {train_f1:.5f}')\n",
    "    \n",
    "    validation_loss = 0\n",
    "    total_validation_loss = 0\n",
    "    validation_data_cnt = 0\n",
    "    validation_pred=[]\n",
    "    validation_y=[]\n",
    "    model.eval()\n",
    "    pbar = tqdm(validation_loader, total=len(validation_loader))\n",
    "    with torch.no_grad():\n",
    "        for batch in pbar:\n",
    "            x = torch.tensor(batch['image'], dtype=torch.float32, device=config[\"DEVICE\"])\n",
    "            y = torch.tensor(batch['label'], dtype=torch.long, device=config[\"DEVICE\"])\n",
    "            with torch.cuda.amp.autocast():\n",
    "                pred = model(x)\n",
    "            loss = criterion(pred, y)\n",
    "            total_validation_loss += loss.item() / len(validation_loader)\n",
    "            validation_loss = validation_loss * validation_data_cnt + loss.item()\n",
    "            validation_data_cnt += 1\n",
    "            validation_loss /= validation_data_cnt\n",
    "            validation_pred += pred.argmax(1).detach().cpu().numpy().tolist()\n",
    "            validation_y += y.detach().cpu().numpy().tolist()\n",
    "            pbar.set_postfix({\n",
    "                \"epoch\": f\"{epoch}/{config['EPOCHS']}\",\n",
    "                \"val_loss\" : f\"{validation_loss:.5f}\",\n",
    "                \"total_val_loss\": f\"{total_validation_loss:.5f}\"\n",
    "            })\n",
    "        pbar.close()\n",
    "    val_f1 = score_function(validation_y, validation_pred)\n",
    "    print(f'VAL\\tf1 : {val_f1:.5f}')\n",
    "    \n",
    "    # Update about Loss\n",
    "    if best_loss > validation_loss:\n",
    "        best_loss = validation_loss\n",
    "        torch.save({\n",
    "            \"epoch\": epoch,\n",
    "            \"loss\": validation_loss,\n",
    "            \"score\": val_f1,\n",
    "            \"state_dict\": model.state_dict()\n",
    "        }, f\"{config['MODEL_SAVE']}/{config['MODEL_SAVE_PREFIX']}_best.pth\")\n",
    "    \n",
    "    torch.save({\n",
    "        \"epoch\": epoch,\n",
    "        \"loss\": validation_loss,\n",
    "        \"score\": val_f1,\n",
    "        \"state_dict\": model.state_dict()\n",
    "    }, f\"{config['MODEL_SAVE']}/{config['MODEL_SAVE_PREFIX']}_{epoch}.pth\")\n",
    "    \n",
    "    # Update about Score\n",
    "    #if best_score < val_f1:\n",
    "    #    best_score = val_f1"
   ]
  },
  {
   "cell_type": "code",
   "execution_count": null,
   "id": "9f388195",
   "metadata": {},
   "outputs": [],
   "source": []
  }
 ],
 "metadata": {
  "kernelspec": {
   "display_name": "Python 3 (ipykernel)",
   "language": "python",
   "name": "python3"
  },
  "language_info": {
   "codemirror_mode": {
    "name": "ipython",
    "version": 3
   },
   "file_extension": ".py",
   "mimetype": "text/x-python",
   "name": "python",
   "nbconvert_exporter": "python",
   "pygments_lexer": "ipython3",
   "version": "3.8.12"
  }
 },
 "nbformat": 4,
 "nbformat_minor": 5
}
