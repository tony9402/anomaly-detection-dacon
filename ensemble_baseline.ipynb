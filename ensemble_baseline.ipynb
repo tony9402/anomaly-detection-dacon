{
 "cells": [
  {
   "cell_type": "code",
   "execution_count": 1,
   "id": "e147fd6f",
   "metadata": {},
   "outputs": [],
   "source": [
    "import math\n",
    "import pandas as pd\n",
    "import numpy as np\n",
    "import joblib"
   ]
  },
  {
   "cell_type": "code",
   "execution_count": 2,
   "id": "098e02dc",
   "metadata": {},
   "outputs": [],
   "source": [
    "def L(x):\n",
    "    return math.log10(x / (1 - x))"
   ]
  },
  {
   "cell_type": "code",
   "execution_count": 3,
   "id": "c246142c",
   "metadata": {},
   "outputs": [],
   "source": [
    "with open('encoder.pickle', 'rb') as f:\n",
    "    encoder = joblib.load(f)"
   ]
  },
  {
   "cell_type": "code",
   "execution_count": 4,
   "id": "6c844f5d",
   "metadata": {},
   "outputs": [],
   "source": [
    "# (Score, CSV)\n",
    "configs = [\n",
    "    (0.851726254, \"efficient_b7_ap_foldall.csv\"), # b7_ap_sota_tta\n",
    "    (0.8586881402, \"efficientb8_ap_ms.csv\") # b8_ap_sota_tta\n",
    "]\n",
    "output = \"ensemble_result.csv\""
   ]
  },
  {
   "cell_type": "code",
   "execution_count": 5,
   "id": "6ca22dc2",
   "metadata": {},
   "outputs": [
    {
     "name": "stdout",
     "output_type": "stream",
     "text": [
      "[0.4920859438045291, 0.5079140561954709]\n"
     ]
    }
   ],
   "source": [
    "csv_files = []\n",
    "score_sum = 0\n",
    "for score, path in configs:\n",
    "    score_sum += L(score)\n",
    "    csv_files.append(pd.read_csv(path))\n",
    "\n",
    "coeff = [L(score) / score_sum for score, _ in configs]\n",
    "pred = []\n",
    "for csv in csv_files:\n",
    "    pred.append(csv['score'].to_list())\n",
    "    \n",
    "pred_total = []\n",
    "for i in range(len(configs)):\n",
    "    current_pred = []\n",
    "    for score in pred[i]:\n",
    "        current_pred.append(list(map(float, score[1:-1].split(','))))\n",
    "    pred_total.append(current_pred)\n",
    "\n",
    "print(coeff)"
   ]
  },
  {
   "cell_type": "code",
   "execution_count": 6,
   "id": "e8a63a03",
   "metadata": {},
   "outputs": [],
   "source": [
    "X = np.zeros((len(pred_total[0]), len(pred_total[0][0])))\n",
    "for idx, current_pred in enumerate(pred_total):\n",
    "    X += np.array(current_pred) * coeff[idx]\n",
    "    \n",
    "y = X.argmax(1)\n",
    "y = encoder.inverse_transform(y)\n",
    "pred = y.tolist()"
   ]
  },
  {
   "cell_type": "code",
   "execution_count": 7,
   "id": "cf951951",
   "metadata": {},
   "outputs": [
    {
     "data": {
      "text/html": [
       "<div>\n",
       "<style scoped>\n",
       "    .dataframe tbody tr th:only-of-type {\n",
       "        vertical-align: middle;\n",
       "    }\n",
       "\n",
       "    .dataframe tbody tr th {\n",
       "        vertical-align: top;\n",
       "    }\n",
       "\n",
       "    .dataframe thead th {\n",
       "        text-align: right;\n",
       "    }\n",
       "</style>\n",
       "<table border=\"1\" class=\"dataframe\">\n",
       "  <thead>\n",
       "    <tr style=\"text-align: right;\">\n",
       "      <th></th>\n",
       "      <th>index</th>\n",
       "      <th>file_name</th>\n",
       "      <th>path</th>\n",
       "      <th>label</th>\n",
       "    </tr>\n",
       "  </thead>\n",
       "  <tbody>\n",
       "    <tr>\n",
       "      <th>0</th>\n",
       "      <td>0</td>\n",
       "      <td>20000.png</td>\n",
       "      <td>/dacon/dacon/anomaly-detection/data/test/20000...</td>\n",
       "      <td>tile-glue_strip</td>\n",
       "    </tr>\n",
       "    <tr>\n",
       "      <th>1</th>\n",
       "      <td>1</td>\n",
       "      <td>20001.png</td>\n",
       "      <td>/dacon/dacon/anomaly-detection/data/test/20001...</td>\n",
       "      <td>grid-good</td>\n",
       "    </tr>\n",
       "    <tr>\n",
       "      <th>2</th>\n",
       "      <td>2</td>\n",
       "      <td>20002.png</td>\n",
       "      <td>/dacon/dacon/anomaly-detection/data/test/20002...</td>\n",
       "      <td>transistor-good</td>\n",
       "    </tr>\n",
       "    <tr>\n",
       "      <th>3</th>\n",
       "      <td>3</td>\n",
       "      <td>20003.png</td>\n",
       "      <td>/dacon/dacon/anomaly-detection/data/test/20003...</td>\n",
       "      <td>tile-gray_stroke</td>\n",
       "    </tr>\n",
       "    <tr>\n",
       "      <th>4</th>\n",
       "      <td>4</td>\n",
       "      <td>20004.png</td>\n",
       "      <td>/dacon/dacon/anomaly-detection/data/test/20004...</td>\n",
       "      <td>tile-good</td>\n",
       "    </tr>\n",
       "    <tr>\n",
       "      <th>...</th>\n",
       "      <td>...</td>\n",
       "      <td>...</td>\n",
       "      <td>...</td>\n",
       "      <td>...</td>\n",
       "    </tr>\n",
       "    <tr>\n",
       "      <th>2149</th>\n",
       "      <td>2149</td>\n",
       "      <td>22149.png</td>\n",
       "      <td>/dacon/dacon/anomaly-detection/data/test/22149...</td>\n",
       "      <td>tile-gray_stroke</td>\n",
       "    </tr>\n",
       "    <tr>\n",
       "      <th>2150</th>\n",
       "      <td>2150</td>\n",
       "      <td>22150.png</td>\n",
       "      <td>/dacon/dacon/anomaly-detection/data/test/22150...</td>\n",
       "      <td>screw-good</td>\n",
       "    </tr>\n",
       "    <tr>\n",
       "      <th>2151</th>\n",
       "      <td>2151</td>\n",
       "      <td>22151.png</td>\n",
       "      <td>/dacon/dacon/anomaly-detection/data/test/22151...</td>\n",
       "      <td>grid-good</td>\n",
       "    </tr>\n",
       "    <tr>\n",
       "      <th>2152</th>\n",
       "      <td>2152</td>\n",
       "      <td>22152.png</td>\n",
       "      <td>/dacon/dacon/anomaly-detection/data/test/22152...</td>\n",
       "      <td>cable-good</td>\n",
       "    </tr>\n",
       "    <tr>\n",
       "      <th>2153</th>\n",
       "      <td>2153</td>\n",
       "      <td>22153.png</td>\n",
       "      <td>/dacon/dacon/anomaly-detection/data/test/22153...</td>\n",
       "      <td>zipper-good</td>\n",
       "    </tr>\n",
       "  </tbody>\n",
       "</table>\n",
       "<p>2154 rows × 4 columns</p>\n",
       "</div>"
      ],
      "text/plain": [
       "      index  file_name                                               path  \\\n",
       "0         0  20000.png  /dacon/dacon/anomaly-detection/data/test/20000...   \n",
       "1         1  20001.png  /dacon/dacon/anomaly-detection/data/test/20001...   \n",
       "2         2  20002.png  /dacon/dacon/anomaly-detection/data/test/20002...   \n",
       "3         3  20003.png  /dacon/dacon/anomaly-detection/data/test/20003...   \n",
       "4         4  20004.png  /dacon/dacon/anomaly-detection/data/test/20004...   \n",
       "...     ...        ...                                                ...   \n",
       "2149   2149  22149.png  /dacon/dacon/anomaly-detection/data/test/22149...   \n",
       "2150   2150  22150.png  /dacon/dacon/anomaly-detection/data/test/22150...   \n",
       "2151   2151  22151.png  /dacon/dacon/anomaly-detection/data/test/22151...   \n",
       "2152   2152  22152.png  /dacon/dacon/anomaly-detection/data/test/22152...   \n",
       "2153   2153  22153.png  /dacon/dacon/anomaly-detection/data/test/22153...   \n",
       "\n",
       "                 label  \n",
       "0      tile-glue_strip  \n",
       "1            grid-good  \n",
       "2      transistor-good  \n",
       "3     tile-gray_stroke  \n",
       "4            tile-good  \n",
       "...                ...  \n",
       "2149  tile-gray_stroke  \n",
       "2150        screw-good  \n",
       "2151         grid-good  \n",
       "2152        cable-good  \n",
       "2153       zipper-good  \n",
       "\n",
       "[2154 rows x 4 columns]"
      ]
     },
     "execution_count": 7,
     "metadata": {},
     "output_type": "execute_result"
    }
   ],
   "source": [
    "submission = pd.read_csv('test_data.csv')\n",
    "submission['label'] = pred\n",
    "submission"
   ]
  },
  {
   "cell_type": "code",
   "execution_count": 8,
   "id": "50bd9bd5",
   "metadata": {},
   "outputs": [],
   "source": [
    "del submission['path']\n",
    "del submission['file_name']\n",
    "submission.to_csv(output, index=None)"
   ]
  }
 ],
 "metadata": {
  "kernelspec": {
   "display_name": "Python 3 (ipykernel)",
   "language": "python",
   "name": "python3"
  },
  "language_info": {
   "codemirror_mode": {
    "name": "ipython",
    "version": 3
   },
   "file_extension": ".py",
   "mimetype": "text/x-python",
   "name": "python",
   "nbconvert_exporter": "python",
   "pygments_lexer": "ipython3",
   "version": "3.8.12"
  }
 },
 "nbformat": 4,
 "nbformat_minor": 5
}
