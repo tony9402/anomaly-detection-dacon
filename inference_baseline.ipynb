{
 "cells": [
  {
   "cell_type": "code",
   "execution_count": null,
   "id": "65b95172",
   "metadata": {},
   "outputs": [],
   "source": [
    "import warnings\n",
    "warnings.filterwarnings('ignore')\n",
    "\n",
    "from glob import glob\n",
    "import pandas as pd\n",
    "import numpy as np \n",
    "from tqdm import tqdm\n",
    "import cv2\n",
    "\n",
    "import os\n",
    "import timm\n",
    "import random\n",
    "\n",
    "import albumentations as A\n",
    "from albumentations.pytorch import transforms, ToTensorV2\n",
    "\n",
    "import torch\n",
    "from torch.utils.data import Dataset, DataLoader\n",
    "import torch.nn as nn\n",
    "import torch.nn.functional as F\n",
    "import torchvision.transforms as transforms\n",
    "\n",
    "import json\n",
    "import joblib\n",
    "\n",
    "from sklearn.metrics import f1_score, accuracy_score"
   ]
  },
  {
   "cell_type": "code",
   "execution_count": null,
   "id": "ef204eb1",
   "metadata": {},
   "outputs": [],
   "source": [
    "# Configs\n",
    "config = {}\n",
    "config_path = \"./config/swin_base.json\"\n",
    "with open(config_path, 'r') as f:\n",
    "    config = json.load(f)\n",
    "    f.close()"
   ]
  },
  {
   "cell_type": "code",
   "execution_count": null,
   "id": "5a4ecffa",
   "metadata": {},
   "outputs": [],
   "source": [
    "config['DEVICE'] = torch.device(\"cuda\" if torch.cuda.is_available() else \"cpu\")"
   ]
  },
  {
   "cell_type": "code",
   "execution_count": null,
   "id": "2c0262b7",
   "metadata": {},
   "outputs": [],
   "source": [
    "class CustomDataset(Dataset):\n",
    "    def __init__(self,\n",
    "                 data_path,\n",
    "                 size,\n",
    "                 transform=None,\n",
    "                 fold=0,\n",
    "                 mode=\"train\"):\n",
    "        self.csv = pd.read_csv(data_path)\n",
    "        if 'kfold' in self.csv:\n",
    "            if mode == \"train\":\n",
    "                self.csv = self.csv[self.csv['kfold'] != fold]\n",
    "            elif mode == \"validation\":\n",
    "                self.csv = self.csv[self.csv['kfold'] == fold]\n",
    "        \n",
    "        self.path = self.csv['path'].to_list()\n",
    "        if 'encoded_label' in self.csv:\n",
    "            self.labels = self.csv['encoded_label'].to_list()\n",
    "        self.transform = transform\n",
    "        self.size = size\n",
    "        self.mode = mode\n",
    "    \n",
    "    def __len__(self):\n",
    "        return len(self.path)\n",
    "    \n",
    "    def __getitem__(self, idx):        \n",
    "        # Image\n",
    "        image = cv2.imread(self.path[idx])\n",
    "        image = cv2.cvtColor(image, cv2.COLOR_BGR2RGB)\n",
    "        \n",
    "        if self.transform:\n",
    "            image = self.transform(self.size)(image=image)['image']\n",
    "        \n",
    "        # Only test mode\n",
    "        if self.mode == \"test\":\n",
    "            return {\n",
    "                'image': image\n",
    "            }\n",
    "        \n",
    "        # Label\n",
    "        label = self.labels[idx]\n",
    "        label = torch.tensor(label, dtype=torch.long)\n",
    "        \n",
    "        return {\n",
    "            'image': image,\n",
    "            'label': label\n",
    "        }"
   ]
  },
  {
   "cell_type": "code",
   "execution_count": null,
   "id": "ede880e6",
   "metadata": {},
   "outputs": [],
   "source": [
    "def create_validation_transforms(size):\n",
    "    return A.Compose([\n",
    "        A.Resize(size, size),\n",
    "        A.Normalize(mean=(0.485, 0.456, 0.406), std=(0.229, 0.224, 0.225)),\n",
    "        ToTensorV2()\n",
    "    ])"
   ]
  },
  {
   "cell_type": "code",
   "execution_count": null,
   "id": "b002fcf1",
   "metadata": {},
   "outputs": [],
   "source": [
    "test_dataset = CustomDataset(\n",
    "    data_path = config[\"TEST_CSV\"],\n",
    "    size = config[\"SIZE\"],\n",
    "    transform = create_validation_transforms,\n",
    "    fold = config[\"FOLD\"],\n",
    "    mode = \"test\"\n",
    ")\n",
    "test_loader = DataLoader(\n",
    "    dataset = test_dataset,\n",
    "    shuffle = False,\n",
    "    batch_size = config[\"BATCH_SIZE\"],\n",
    "    num_workers = config[\"N_WORKERS\"]\n",
    ")"
   ]
  },
  {
   "cell_type": "code",
   "execution_count": null,
   "id": "04071461",
   "metadata": {},
   "outputs": [],
   "source": [
    "def score_function(real, pred):\n",
    "    score = f1_score(real, pred, average=\"macro\")\n",
    "    return score"
   ]
  },
  {
   "cell_type": "code",
   "execution_count": null,
   "id": "942cb8ce",
   "metadata": {},
   "outputs": [],
   "source": [
    "with open('encoder.pickle', 'rb') as f:\n",
    "    encoder = joblib.load(f)"
   ]
  },
  {
   "cell_type": "code",
   "execution_count": null,
   "id": "13c7203c",
   "metadata": {},
   "outputs": [],
   "source": [
    "def load_model(model_name = None, pretrained = True, num_classes = 88):\n",
    "    return timm.create_model(model_name, pretrained=pretrained, num_classes=num_classes)"
   ]
  },
  {
   "cell_type": "code",
   "execution_count": null,
   "id": "439b1e6f",
   "metadata": {},
   "outputs": [],
   "source": [
    "model = load_model(config[\"MODEL\"], config[\"PRETRAINED\"], config[\"N_CLASSES\"]).to(config[\"DEVICE\"])"
   ]
  },
  {
   "cell_type": "code",
   "execution_count": null,
   "id": "ebdce77f",
   "metadata": {},
   "outputs": [],
   "source": [
    "best_model_name = f\"{config['MODEL_SAVE_PREFIX']}_best.pth\"\n",
    "best_model_path = os.path.join(config['MODEL_SAVE'], best_model_name)\n",
    "model_data = torch.load(best_model_path)\n",
    "print(model_data[\"epoch\"], model_data[\"score\"], model_data[\"loss\"])\n",
    "model.load_state_dict(model_data['state_dict'])"
   ]
  },
  {
   "cell_type": "code",
   "execution_count": null,
   "id": "df084a58",
   "metadata": {},
   "outputs": [],
   "source": [
    "model.eval()\n",
    "\n",
    "f_pred = []\n",
    "f_score = []\n",
    "with torch.no_grad():\n",
    "    pbar = tqdm(test_loader, total=len(test_loader))\n",
    "    for batch in pbar:\n",
    "        x = torch.tensor(batch['image'], dtype=torch.float32, device=config[\"DEVICE\"])\n",
    "        with torch.cuda.amp.autocast():\n",
    "            pred = model(x)\n",
    "        f_score.extend(pred.detach().cpu().numpy().tolist())\n",
    "        y = pred.argmax(1).detach().cpu().numpy().tolist()\n",
    "        y = encoder.inverse_transform(y)\n",
    "        f_pred.extend(y)"
   ]
  },
  {
   "cell_type": "code",
   "execution_count": null,
   "id": "ff865365",
   "metadata": {},
   "outputs": [],
   "source": [
    "submission = pd.read_csv(config[\"TEST_CSV\"])\n",
    "submission['label'] = f_pred\n",
    "submission['score'] = f_score\n",
    "del submission['file_name']\n",
    "del submission['path']\n",
    "submission"
   ]
  },
  {
   "cell_type": "code",
   "execution_count": null,
   "id": "f8358d0a",
   "metadata": {},
   "outputs": [],
   "source": [
    "submission.to_csv(config[\"SUBMISSION_CSV\"], index=None)"
   ]
  }
 ],
 "metadata": {
  "kernelspec": {
   "display_name": "Python 3 (ipykernel)",
   "language": "python",
   "name": "python3"
  },
  "language_info": {
   "codemirror_mode": {
    "name": "ipython",
    "version": 3
   },
   "file_extension": ".py",
   "mimetype": "text/x-python",
   "name": "python",
   "nbconvert_exporter": "python",
   "pygments_lexer": "ipython3",
   "version": "3.8.12"
  }
 },
 "nbformat": 4,
 "nbformat_minor": 5
}
