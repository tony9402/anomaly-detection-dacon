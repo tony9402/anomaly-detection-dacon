{
 "cells": [
  {
   "cell_type": "code",
   "execution_count": 1,
   "id": "0a7d9629",
   "metadata": {},
   "outputs": [],
   "source": [
    "import os\n",
    "os.environ[\"CUDA_DEVICE_ORDER\"]=\"PCI_BUS_ID\"   \n",
    "os.environ[\"CUDA_VISIBLE_DEVICES\"]=\"0\"\n",
    "\n",
    "import warnings\n",
    "warnings.filterwarnings('ignore')\n",
    "\n",
    "from glob import glob\n",
    "import pandas as pd\n",
    "import numpy as np \n",
    "from tqdm import tqdm\n",
    "import cv2\n",
    "\n",
    "import os\n",
    "import timm\n",
    "import random\n",
    "\n",
    "import albumentations as A\n",
    "from albumentations.pytorch import transforms, ToTensorV2\n",
    "\n",
    "import torch\n",
    "from torch.utils.data import Dataset, DataLoader\n",
    "import torch.nn as nn\n",
    "import torch.nn.functional as F\n",
    "import torchvision.transforms as transforms\n",
    "\n",
    "import json\n",
    "import joblib\n",
    "\n",
    "from sklearn.metrics import f1_score, accuracy_score"
   ]
  },
  {
   "cell_type": "code",
   "execution_count": 2,
   "id": "c04a86b2",
   "metadata": {},
   "outputs": [],
   "source": [
    "# Configs\n",
    "config = {}\n",
    "config_path = \"./config/swin_all.json\"\n",
    "with open(config_path, 'r') as f:\n",
    "    config = json.load(f)\n",
    "    f.close()"
   ]
  },
  {
   "cell_type": "code",
   "execution_count": 3,
   "id": "10cfbb55",
   "metadata": {},
   "outputs": [],
   "source": [
    "config['DEVICE'] = torch.device(\"cuda\" if torch.cuda.is_available() else \"cpu\")"
   ]
  },
  {
   "cell_type": "code",
   "execution_count": 4,
   "id": "5579eceb",
   "metadata": {},
   "outputs": [],
   "source": [
    "class CustomDataset(Dataset):\n",
    "    def __init__(self,\n",
    "                 data_path,\n",
    "                 size,\n",
    "                 transform=None,\n",
    "                 fold=0,\n",
    "                 mode=\"train\"):\n",
    "        self.csv = pd.read_csv(data_path)\n",
    "        if 'kfold' in self.csv:\n",
    "            if mode == \"train\":\n",
    "                self.csv = self.csv[self.csv['kfold'] != fold]\n",
    "            elif mode == \"validation\":\n",
    "                self.csv = self.csv[self.csv['kfold'] == fold]\n",
    "        \n",
    "        self.path = self.csv['path'].to_list()\n",
    "        if 'encoded_label' in self.csv:\n",
    "            self.labels = self.csv['encoded_label'].to_list()\n",
    "        self.transform = transform\n",
    "        self.size = size\n",
    "        self.mode = mode\n",
    "    \n",
    "    def __len__(self):\n",
    "        return len(self.path)\n",
    "    \n",
    "    def __getitem__(self, idx):        \n",
    "        # Image\n",
    "        image = cv2.imread(self.path[idx])\n",
    "        image = cv2.cvtColor(image, cv2.COLOR_BGR2RGB)\n",
    "        \n",
    "        if self.transform:\n",
    "            image = self.transform(self.size)(image=image)['image']\n",
    "        \n",
    "        # Only test mode\n",
    "        if self.mode == \"test\":\n",
    "            return {\n",
    "                'image': image\n",
    "            }\n",
    "        \n",
    "        # Label\n",
    "        label = self.labels[idx]\n",
    "        label = torch.tensor(label, dtype=torch.long)\n",
    "        \n",
    "        return {\n",
    "            'image': image,\n",
    "            'label': label\n",
    "        }"
   ]
  },
  {
   "cell_type": "code",
   "execution_count": 5,
   "id": "a4bf2aaf",
   "metadata": {},
   "outputs": [],
   "source": [
    "def create_validation_transforms(size):\n",
    "    return A.Compose([\n",
    "        A.Resize(size, size),\n",
    "        A.Normalize(mean=(0.485, 0.456, 0.406), std=(0.229, 0.224, 0.225)),\n",
    "        ToTensorV2()\n",
    "    ])"
   ]
  },
  {
   "cell_type": "code",
   "execution_count": 6,
   "id": "abe5bd1c",
   "metadata": {},
   "outputs": [],
   "source": [
    "test_dataset = CustomDataset(\n",
    "    data_path = config[\"TEST_CSV\"],\n",
    "    size = config[\"SIZE\"],\n",
    "    transform = create_validation_transforms,\n",
    "    fold = config[\"FOLD\"],\n",
    "    mode = \"test\"\n",
    ")\n",
    "test_loader = DataLoader(\n",
    "    dataset = test_dataset,\n",
    "    shuffle = False,\n",
    "    batch_size = config[\"BATCH_SIZE\"],\n",
    "    num_workers = config[\"N_WORKERS\"]\n",
    ")"
   ]
  },
  {
   "cell_type": "code",
   "execution_count": 7,
   "id": "2a53d6a4",
   "metadata": {},
   "outputs": [],
   "source": [
    "def score_function(real, pred):\n",
    "    score = f1_score(real, pred, average=\"macro\")\n",
    "    return score"
   ]
  },
  {
   "cell_type": "code",
   "execution_count": 8,
   "id": "5b819188",
   "metadata": {},
   "outputs": [],
   "source": [
    "with open('encoder.pickle', 'rb') as f:\n",
    "    encoder = joblib.load(f)"
   ]
  },
  {
   "cell_type": "code",
   "execution_count": 9,
   "id": "4cad62d5",
   "metadata": {},
   "outputs": [],
   "source": [
    "def load_model(model_name = None, pretrained = True, num_classes = 88):\n",
    "    return timm.create_model(model_name, pretrained=pretrained, num_classes=num_classes)"
   ]
  },
  {
   "cell_type": "code",
   "execution_count": 10,
   "id": "2f340617",
   "metadata": {},
   "outputs": [
    {
     "name": "stdout",
     "output_type": "stream",
     "text": [
      "14 0.7421643212630613 0.1037438376397067\n"
     ]
    },
    {
     "name": "stderr",
     "output_type": "stream",
     "text": [
      "100%|██████████| 68/68 [00:15<00:00,  4.51it/s]\n"
     ]
    },
    {
     "name": "stdout",
     "output_type": "stream",
     "text": [
      "26 0.8163526326732292 0.08728190993025675\n"
     ]
    },
    {
     "name": "stderr",
     "output_type": "stream",
     "text": [
      "100%|██████████| 68/68 [00:13<00:00,  5.04it/s]\n"
     ]
    },
    {
     "name": "stdout",
     "output_type": "stream",
     "text": [
      "41 0.8500758175266914 0.07541702137354553\n"
     ]
    },
    {
     "name": "stderr",
     "output_type": "stream",
     "text": [
      "100%|██████████| 68/68 [00:13<00:00,  5.04it/s]\n"
     ]
    },
    {
     "name": "stdout",
     "output_type": "stream",
     "text": [
      "8 0.8558784122418784 0.06674612327521944\n"
     ]
    },
    {
     "name": "stderr",
     "output_type": "stream",
     "text": [
      "100%|██████████| 68/68 [00:13<00:00,  5.02it/s]\n"
     ]
    },
    {
     "name": "stdout",
     "output_type": "stream",
     "text": [
      "75 0.798420417133524 0.08322614569462733\n"
     ]
    },
    {
     "name": "stderr",
     "output_type": "stream",
     "text": [
      "100%|██████████| 68/68 [00:13<00:00,  5.03it/s]\n"
     ]
    }
   ],
   "source": [
    "model = load_model(config[\"MODEL\"], config[\"PRETRAINED\"], config[\"N_CLASSES\"]).to(config[\"DEVICE\"])\n",
    "\n",
    "f_score_avg = []\n",
    "model_score_sum = 0\n",
    "for fold in config[\"FOLD\"]:\n",
    "    best_model_name = f\"{config['MODEL_SAVE_PREFIX']}_{fold}_best.pth\"\n",
    "    best_model_path = os.path.join(config['MODEL_SAVE'], best_model_name)\n",
    "    model_data = torch.load(best_model_path)\n",
    "    print(model_data[\"epoch\"], model_data[\"score\"], model_data[\"loss\"])\n",
    "    model_score_sum += model_data['score']\n",
    "    model.load_state_dict(model_data['state_dict'])\n",
    "    \n",
    "    model.eval()\n",
    "\n",
    "    f_score = []\n",
    "    with torch.no_grad():\n",
    "        pbar = tqdm(test_loader, total=len(test_loader))\n",
    "        for batch in pbar:\n",
    "            x = torch.tensor(batch['image'], dtype=torch.float32, device=config[\"DEVICE\"])\n",
    "            with torch.cuda.amp.autocast():\n",
    "                pred = model(x)\n",
    "            f_score.extend(pred.detach().cpu().numpy().tolist())\n",
    "    if fold == 0:\n",
    "        f_score_avg = f_score\n",
    "    else:\n",
    "        a = np.array(f_score_avg)\n",
    "        b = np.array(f_score)\n",
    "        f_score_avg = a + b"
   ]
  },
  {
   "cell_type": "code",
   "execution_count": null,
   "id": "fe809359",
   "metadata": {},
   "outputs": [],
   "source": [
    "print(f\"Kfold Score : {model_score_sum / len(config['FOLD'])}\")"
   ]
  },
  {
   "cell_type": "code",
   "execution_count": 11,
   "id": "7099ab8e",
   "metadata": {},
   "outputs": [
    {
     "name": "stdout",
     "output_type": "stream",
     "text": [
      "(2154, 88)\n",
      "[[-20.36523438 -28.6640625  -21.07421875 ... -20.26953125 -30.51367188\n",
      "  -30.9921875 ]\n",
      " [-32.65234375 -33.2265625  -32.10546875 ... -30.60546875 -32.07421875\n",
      "  -30.86914062]\n",
      " [-21.11621094 -24.67382812 -21.3515625  ... -22.42773438 -25.82226562\n",
      "  -24.90625   ]\n",
      " ...\n",
      " [-27.8203125  -30.765625   -29.93945312 ... -31.0546875  -30.69921875\n",
      "  -32.06445312]\n",
      " [-26.671875   -28.37890625 -27.234375   ... -27.33203125 -27.4609375\n",
      "  -27.390625  ]\n",
      " [-34.828125   -37.8671875  -34.28125    ... -26.38867188 -22.96777344\n",
      "  -15.625     ]]\n"
     ]
    }
   ],
   "source": [
    "print(f_score_avg.shape)\n",
    "print(f_score_avg)\n",
    "f_score_avg = np.array(f_score_avg) / len(config['FOLD'])\n",
    "f_score_avg = f_score_avg.tolist()"
   ]
  },
  {
   "cell_type": "code",
   "execution_count": 12,
   "id": "1c3cdbd5",
   "metadata": {},
   "outputs": [],
   "source": [
    "y = np.array(f_score_avg).argmax(1)\n",
    "y = encoder.inverse_transform(y)\n",
    "f_pred = y.tolist()"
   ]
  },
  {
   "cell_type": "code",
   "execution_count": 14,
   "id": "95e66cb0",
   "metadata": {},
   "outputs": [
    {
     "data": {
      "text/html": [
       "<div>\n",
       "<style scoped>\n",
       "    .dataframe tbody tr th:only-of-type {\n",
       "        vertical-align: middle;\n",
       "    }\n",
       "\n",
       "    .dataframe tbody tr th {\n",
       "        vertical-align: top;\n",
       "    }\n",
       "\n",
       "    .dataframe thead th {\n",
       "        text-align: right;\n",
       "    }\n",
       "</style>\n",
       "<table border=\"1\" class=\"dataframe\">\n",
       "  <thead>\n",
       "    <tr style=\"text-align: right;\">\n",
       "      <th></th>\n",
       "      <th>index</th>\n",
       "      <th>label</th>\n",
       "      <th>score</th>\n",
       "    </tr>\n",
       "  </thead>\n",
       "  <tbody>\n",
       "    <tr>\n",
       "      <th>0</th>\n",
       "      <td>0</td>\n",
       "      <td>tile-glue_strip</td>\n",
       "      <td>[-3.50390625, -5.41015625, -4.28515625, -6.382...</td>\n",
       "    </tr>\n",
       "    <tr>\n",
       "      <th>1</th>\n",
       "      <td>1</td>\n",
       "      <td>grid-good</td>\n",
       "      <td>[-8.171875, -7.84375, -9.0546875, -7.890625, -...</td>\n",
       "    </tr>\n",
       "    <tr>\n",
       "      <th>2</th>\n",
       "      <td>2</td>\n",
       "      <td>transistor-misplaced</td>\n",
       "      <td>[-5.47265625, -5.453125, -4.5234375, -6.144531...</td>\n",
       "    </tr>\n",
       "    <tr>\n",
       "      <th>3</th>\n",
       "      <td>3</td>\n",
       "      <td>tile-gray_stroke</td>\n",
       "      <td>[-3.607421875, -5.96484375, -2.529296875, -6.0...</td>\n",
       "    </tr>\n",
       "    <tr>\n",
       "      <th>4</th>\n",
       "      <td>4</td>\n",
       "      <td>tile-good</td>\n",
       "      <td>[-7.9609375, -7.31640625, -6.875, -5.89453125,...</td>\n",
       "    </tr>\n",
       "    <tr>\n",
       "      <th>...</th>\n",
       "      <td>...</td>\n",
       "      <td>...</td>\n",
       "      <td>...</td>\n",
       "    </tr>\n",
       "    <tr>\n",
       "      <th>2149</th>\n",
       "      <td>2149</td>\n",
       "      <td>tile-gray_stroke</td>\n",
       "      <td>[-3.134765625, -6.12109375, -2.076171875, -4.9...</td>\n",
       "    </tr>\n",
       "    <tr>\n",
       "      <th>2150</th>\n",
       "      <td>2150</td>\n",
       "      <td>screw-good</td>\n",
       "      <td>[-8.1484375, -7.3515625, -7.39453125, -7.07421...</td>\n",
       "    </tr>\n",
       "    <tr>\n",
       "      <th>2151</th>\n",
       "      <td>2151</td>\n",
       "      <td>grid-good</td>\n",
       "      <td>[-6.5859375, -6.6640625, -7.70703125, -6.69921...</td>\n",
       "    </tr>\n",
       "    <tr>\n",
       "      <th>2152</th>\n",
       "      <td>2152</td>\n",
       "      <td>cable-good</td>\n",
       "      <td>[-6.12890625, -7.1484375, -7.20703125, -5.9179...</td>\n",
       "    </tr>\n",
       "    <tr>\n",
       "      <th>2153</th>\n",
       "      <td>2153</td>\n",
       "      <td>zipper-good</td>\n",
       "      <td>[-8.6484375, -9.8515625, -8.6484375, -7.78125,...</td>\n",
       "    </tr>\n",
       "  </tbody>\n",
       "</table>\n",
       "<p>2154 rows × 3 columns</p>\n",
       "</div>"
      ],
      "text/plain": [
       "      index                 label  \\\n",
       "0         0       tile-glue_strip   \n",
       "1         1             grid-good   \n",
       "2         2  transistor-misplaced   \n",
       "3         3      tile-gray_stroke   \n",
       "4         4             tile-good   \n",
       "...     ...                   ...   \n",
       "2149   2149      tile-gray_stroke   \n",
       "2150   2150            screw-good   \n",
       "2151   2151             grid-good   \n",
       "2152   2152            cable-good   \n",
       "2153   2153           zipper-good   \n",
       "\n",
       "                                                  score  \n",
       "0     [-3.50390625, -5.41015625, -4.28515625, -6.382...  \n",
       "1     [-8.171875, -7.84375, -9.0546875, -7.890625, -...  \n",
       "2     [-5.47265625, -5.453125, -4.5234375, -6.144531...  \n",
       "3     [-3.607421875, -5.96484375, -2.529296875, -6.0...  \n",
       "4     [-7.9609375, -7.31640625, -6.875, -5.89453125,...  \n",
       "...                                                 ...  \n",
       "2149  [-3.134765625, -6.12109375, -2.076171875, -4.9...  \n",
       "2150  [-8.1484375, -7.3515625, -7.39453125, -7.07421...  \n",
       "2151  [-6.5859375, -6.6640625, -7.70703125, -6.69921...  \n",
       "2152  [-6.12890625, -7.1484375, -7.20703125, -5.9179...  \n",
       "2153  [-8.6484375, -9.8515625, -8.6484375, -7.78125,...  \n",
       "\n",
       "[2154 rows x 3 columns]"
      ]
     },
     "execution_count": 14,
     "metadata": {},
     "output_type": "execute_result"
    }
   ],
   "source": [
    "submission = pd.read_csv(config[\"TEST_CSV\"])\n",
    "submission['label'] = f_pred\n",
    "submission['score'] = f_score\n",
    "del submission['file_name']\n",
    "del submission['path']\n",
    "submission"
   ]
  },
  {
   "cell_type": "code",
   "execution_count": 15,
   "id": "e41e2fdf",
   "metadata": {},
   "outputs": [],
   "source": [
    "submission.to_csv(config[\"SUBMISSION_CSV\"], index=None)"
   ]
  },
  {
   "cell_type": "code",
   "execution_count": 16,
   "id": "37a313c0",
   "metadata": {},
   "outputs": [],
   "source": [
    "del submission['score']\n",
    "submission.to_csv('swin_kfold_submission', index=None)"
   ]
  },
  {
   "cell_type": "code",
   "execution_count": 17,
   "id": "6a4bd30f",
   "metadata": {},
   "outputs": [
    {
     "data": {
      "text/plain": [
       "0.812578320167677"
      ]
     },
     "execution_count": 17,
     "metadata": {},
     "output_type": "execute_result"
    }
   ],
   "source": [
    "(0.7421643212630613 + 0.8163526326732292 + 0.8500758175266914 + 0.8558784122418784 + 0.798420417133524) / 5"
   ]
  },
  {
   "cell_type": "code",
   "execution_count": null,
   "id": "bdd726cb",
   "metadata": {},
   "outputs": [],
   "source": []
  }
 ],
 "metadata": {
  "kernelspec": {
   "display_name": "Python 3 (ipykernel)",
   "language": "python",
   "name": "python3"
  },
  "language_info": {
   "codemirror_mode": {
    "name": "ipython",
    "version": 3
   },
   "file_extension": ".py",
   "mimetype": "text/x-python",
   "name": "python",
   "nbconvert_exporter": "python",
   "pygments_lexer": "ipython3",
   "version": "3.8.12"
  }
 },
 "nbformat": 4,
 "nbformat_minor": 5
}
